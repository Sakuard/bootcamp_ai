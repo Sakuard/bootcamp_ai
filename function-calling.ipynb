{
 "cells": [
  {
   "cell_type": "code",
   "execution_count": 55,
   "id": "8e1757d6-b830-439c-93bd-a85f4027ba64",
   "metadata": {},
   "outputs": [],
   "source": [
    "import json\n",
    "import ollama\n",
    "import asyncio\n"
   ]
  },
  {
   "cell_type": "code",
   "execution_count": 6,
   "id": "d9dd9242-ea38-4223-a1df-dd0a1d4aaef1",
   "metadata": {},
   "outputs": [
    {
     "data": {
      "text/plain": [
       "{'status': 'success'}"
      ]
     },
     "execution_count": 6,
     "metadata": {},
     "output_type": "execute_result"
    }
   ],
   "source": [
    "ollama.pull(model=\"llama3\")"
   ]
  },
  {
   "cell_type": "code",
   "execution_count": 82,
   "id": "1ba28f70-3364-466b-9412-696d454116ea",
   "metadata": {},
   "outputs": [],
   "source": [
    "def get_current_conditions(params):\n",
    "    print(f\"執行 get_current_conditions，套入參數: {params}\")\n",
    "\n",
    "def get_location(params):\n",
    "    print(f\"執行 get_location，，套入參數: {params}\")\n",
    "\n",
    "def get_current_stock_price(params):\n",
    "    print(f\"執行 get_current_stock_price，，套入參數{params}\")"
   ]
  },
  {
   "cell_type": "code",
   "execution_count": 87,
   "id": "76417617-24f6-460f-8563-97b0650c6db5",
   "metadata": {},
   "outputs": [],
   "source": [
    "# provide a weather checking tool to the model\n",
    "tools= {\n",
    "    \"type\": \"function\",\n",
    "    \"tools\": [\n",
    "        {\n",
    "            \"name\": \"get_current_conditions\",\n",
    "            \"description\": \"Get the current weather conditions for a specific location\",\n",
    "            \"parameters\": {\n",
    "                \"type\": \"object\",\n",
    "                \"properties\": {\n",
    "                    \"location\": {\n",
    "                        \"type\": \"string\",\n",
    "                        \"description\": \"The city and state, e.g., San Francisco, CA\"\n",
    "                    },\n",
    "                    \"unit\": {\n",
    "                        \"type\": \"string\",\n",
    "                        \"enum\": [\"Celsius\", \"Fahrenheit\"],\n",
    "                        \"description\": \"The temperature unit to use. Infer this from the user's location.\"\n",
    "                    }\n",
    "                },\n",
    "                \"required\": [\"location\", \"unit\"]\n",
    "            }\n",
    "        },\n",
    "        {\n",
    "            \"name\": \"get_location\",\n",
    "            \"description\": \"Get the list of  current supported location\",\n",
    "        },\n",
    "        {\n",
    "            \"name\": \"get_current_stock_price\",\n",
    "            \"description\": \"Get the current stock price a country\",\n",
    "            \"parameters\": {\n",
    "                \"type\": \"object\",\n",
    "                \"properties\": {\n",
    "                    \"country\": {\n",
    "                        \"type\": \"string\",\n",
    "                        \"description\": \"The country, e.g., Taiwan, USA\"\n",
    "                    },\n",
    "                    \"unit\": {\n",
    "                        \"type\": \"string\",\n",
    "                        \"description\": \"The currency unit, e.g., NTD for Taiwan, USD for USA, JPY for Japan\"\n",
    "                    }\n",
    "                },\n",
    "                \"required\": [\"location\", \"unit\"]\n",
    "            }\n",
    "        },\n",
    "    ]\n",
    "}\n",
    "\n",
    "function_map = {\n",
    "    \"get_current_conditions\": get_current_conditions,\n",
    "    \"get_location\": get_location,\n",
    "    \"get_current_stock_price\": get_current_stock_price\n",
    "}\n",
    "\n",
    "formate = '{\"name\": function name, \"parameters\": dictionary of argument name and its value}'\n",
    "\n",
    "def tools_switch(Query):\n",
    "    response = ollama.chat(\n",
    "        model='llama3',\n",
    "        messages=[\n",
    "            {\n",
    "                'role': 'system',\n",
    "                'content': f\"You are a helpful assistant with tool calling capabilities. When you receive a tool call response, use the output to format an answer to the orginal user question.Given the following functions, please respond with a JSON for a function call with its proper arguments that best answers the given prompt.Respond in the format {formate}. Do not use variables.{tools}\"\n",
    "            },\n",
    "            {\n",
    "                'role': 'user',\n",
    "                'content': 'What is the weather in Toronto?'\n",
    "            },\n",
    "            {\n",
    "                'role': 'assistant',\n",
    "                'content': '{ \"name\": \"get_current_conditions\", \"parameters\": {\"location\": \"Toronto\",\"unit\":\"Celsius\"}},\"required\": [\"location\", \"unit\"]}'\n",
    "            },\n",
    "            {\n",
    "                'role': 'user',\n",
    "                'content': Query\n",
    "            },\n",
    "        ],\n",
    "    )\n",
    "    return response\n",
    "\n",
    "def tool_executed(content):\n",
    "    print(f\"LLM 選擇執行 function: {content['name']}()\")\n",
    "    print(\"-\"*20)\n",
    "    \n",
    "    function_name = content['name']\n",
    "    parameters = content.get('parameters', None)\n",
    "    if function_name in function_map:\n",
    "        function_map[function_name](parameters)\n",
    "    else:\n",
    "        print(f\"No function found for name: {function_name}\")"
   ]
  },
  {
   "cell_type": "code",
   "execution_count": 88,
   "id": "012e9900-ac2b-4263-93e6-911dfb92214d",
   "metadata": {},
   "outputs": [
    {
     "name": "stdout",
     "output_type": "stream",
     "text": [
      "LLM 選擇執行 function: get_location()\n",
      "--------------------\n",
      "執行 get_location，，套入參數: None\n"
     ]
    }
   ],
   "source": [
    "# Query = \"What is the weather in NY?\"\n",
    "# Query = \"Stock price in Germany?\"\n",
    "Query = \"How many location could be selected?\"\n",
    "\n",
    "response = tools_switch(Query)\n",
    "content = json.loads(response['message']['content'])\n",
    "\n",
    "tool_executed(content)"
   ]
  }
 ],
 "metadata": {
  "kernelspec": {
   "display_name": "Python 3 (ipykernel)",
   "language": "python",
   "name": "python3"
  },
  "language_info": {
   "codemirror_mode": {
    "name": "ipython",
    "version": 3
   },
   "file_extension": ".py",
   "mimetype": "text/x-python",
   "name": "python",
   "nbconvert_exporter": "python",
   "pygments_lexer": "ipython3",
   "version": "3.12.0"
  }
 },
 "nbformat": 4,
 "nbformat_minor": 5
}
