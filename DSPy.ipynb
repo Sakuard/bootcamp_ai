{
 "cells": [
  {
   "cell_type": "code",
   "execution_count": 4,
   "id": "3211c367-7f8d-4513-bfeb-6ca2114f3498",
   "metadata": {},
   "outputs": [],
   "source": [
    "!pip install -q sentence-transformers dspy-ai gradio PyPDF2 transformers chromadb langchain langchain_community pypdf"
   ]
  },
  {
   "cell_type": "code",
   "execution_count": 7,
   "id": "e7a6e9f5-91fa-41a4-bed9-053e216c1b2e",
   "metadata": {},
   "outputs": [
    {
     "data": {
      "application/vnd.jupyter.widget-view+json": {
       "model_id": "68365d686abc4a2eacddda2fab2cebfa",
       "version_major": 2,
       "version_minor": 0
      },
      "text/plain": [
       "vocab.txt:   0%|          | 0.00/232k [00:00<?, ?B/s]"
      ]
     },
     "metadata": {},
     "output_type": "display_data"
    },
    {
     "data": {
      "application/vnd.jupyter.widget-view+json": {
       "model_id": "c4d4436f161b4250906ae8d6ef80927b",
       "version_major": 2,
       "version_minor": 0
      },
      "text/plain": [
       "tokenizer.json:   0%|          | 0.00/466k [00:00<?, ?B/s]"
      ]
     },
     "metadata": {},
     "output_type": "display_data"
    },
    {
     "data": {
      "application/vnd.jupyter.widget-view+json": {
       "model_id": "080e7e00415f4e73aa2539702ca685f8",
       "version_major": 2,
       "version_minor": 0
      },
      "text/plain": [
       "special_tokens_map.json:   0%|          | 0.00/112 [00:00<?, ?B/s]"
      ]
     },
     "metadata": {},
     "output_type": "display_data"
    },
    {
     "name": "stderr",
     "output_type": "stream",
     "text": [
      "/Users/sakuard/dev/bootcamp_ai/venv/lib/python3.12/site-packages/transformers/tokenization_utils_base.py:1601: FutureWarning: `clean_up_tokenization_spaces` was not set. It will be set to `True` by default. This behavior will be depracted in transformers v4.45, and will be then set to `False` by default. For more details check this issue: https://github.com/huggingface/transformers/issues/31884\n",
      "  warnings.warn(\n"
     ]
    },
    {
     "data": {
      "application/vnd.jupyter.widget-view+json": {
       "model_id": "6c897fe6de6e444e8f605562045be0d6",
       "version_major": 2,
       "version_minor": 0
      },
      "text/plain": [
       "1_Pooling/config.json:   0%|          | 0.00/190 [00:00<?, ?B/s]"
      ]
     },
     "metadata": {},
     "output_type": "display_data"
    }
   ],
   "source": [
    "import chromadb\n",
    "from chromadb.utils import embedding_functions\n",
    "\n",
    "sentence_transformer_ef = embedding_functions.SentenceTransformerEmbeddingFunction(model_name=\"all-MiniLM-L6-v2\")\n",
    "\n",
    "chroma_client = chromadb.PersistentClient(path=\"db/\")\n",
    "collection = chroma_client.get_or_create_collection(name=\"city_laws\", embedding_function=sentence_transformer_ef)"
   ]
  },
  {
   "cell_type": "code",
   "execution_count": 8,
   "id": "6c874ea4-1dfc-4b73-b9fc-7a2f4fa36f43",
   "metadata": {},
   "outputs": [
    {
     "name": "stdout",
     "output_type": "stream",
     "text": [
      "167\n"
     ]
    }
   ],
   "source": [
    "from langchain_community.document_loaders import PyPDFLoader\n",
    "\n",
    "pdf_loader = PyPDFLoader('./dataset/DMC-Act-1957_0.pdf')\n",
    "documents = pdf_loader.load_and_split()\n",
    "print(len(documents))"
   ]
  },
  {
   "cell_type": "code",
   "execution_count": 11,
   "id": "01a1d49f-b90f-43fb-b774-d14a58ce23bf",
   "metadata": {},
   "outputs": [],
   "source": [
    "docs = []\n",
    "ids = []\n",
    "i = 0\n",
    "\n",
    "for doc in documents:\n",
    "  docs.append(doc.page_content)\n",
    "  ids.append(str(i))\n",
    "  i = i+1"
   ]
  },
  {
   "cell_type": "code",
   "execution_count": 12,
   "id": "808195d3-86ee-4652-a1d2-6c376f8b9d33",
   "metadata": {},
   "outputs": [],
   "source": [
    "collection = chroma_client.get_or_create_collection(name=\"city_laws\", embedding_function=sentence_transformer_ef)\n",
    "\n",
    "collection.add(\n",
    "    documents = docs,\n",
    "    ids = ids\n",
    ")"
   ]
  },
  {
   "cell_type": "markdown",
   "id": "c7bd1976-24fe-4b87-9e94-fc0bd9c37351",
   "metadata": {},
   "source": [
    "# DSPy"
   ]
  },
  {
   "cell_type": "code",
   "execution_count": 23,
   "id": "88b1431f-f616-4e0b-9fa7-851d33cbfce3",
   "metadata": {},
   "outputs": [],
   "source": [
    "import dspy\n",
    "# from dspy.retrieve.chromadb_rm import ChromadbRM\n",
    "\n",
    "# retriever_model = ChromadbRM(\n",
    "# 'city_laws', 'db/', embedding_function=sentence_transformer_ef, k=5\n",
    "# )\n",
    "\n",
    "lm = dspy.OllamaLocal(model='llama3')\n",
    "colbertv2_wiki17_abstracts = dspy.ColBERTv2(url='http://20.102.90.50:2017/wiki17_abstracts')\n",
    "\n",
    "# dspy.settings.configure(lm=lm, rm=retriever_model)\n",
    "dspy.settings.configure(lm=lm, rm = colbertv2_wiki17_abstracts)"
   ]
  },
  {
   "cell_type": "code",
   "execution_count": 24,
   "id": "9564eb4d-815c-499d-ba72-0d120d514e49",
   "metadata": {},
   "outputs": [],
   "source": [
    "class RAG(dspy.Module):\n",
    "    def __init__(self, num_passages=3):\n",
    "        super().__init__()\n",
    "\n",
    "        self.retrieve = dspy.Retrieve(k=num_passages)\n",
    "        self.generate_answer = dspy.ChainOfThought(\"context, question -> answer\")\n",
    "    \n",
    "    def forward(self, question):\n",
    "        context = self.retrieve(question).passages\n",
    "        prediction = self.generate_answer(context=context, question=question)\n",
    "        return dspy.Prediction(context=context, answer=prediction.answer)"
   ]
  },
  {
   "cell_type": "code",
   "execution_count": 25,
   "id": "74add9e6-2882-4f0a-8ebe-56b344409cdc",
   "metadata": {},
   "outputs": [],
   "source": [
    "uncompiled_rag = RAG()\n",
    "resp = uncompiled_rag(\"What are the laws in Delhi around pets?\")"
   ]
  },
  {
   "cell_type": "code",
   "execution_count": 26,
   "id": "b69be1d3-9a19-44fa-9969-0ea66abc0c9d",
   "metadata": {},
   "outputs": [
    {
     "name": "stdout",
     "output_type": "stream",
     "text": [
      "Predicted Answer: Here is the completed format:\n",
      "\n",
      "Context: [1] «Pet Fed India | Pet Fed is the biggest pet festival held in India, main edition held annually at New Delhi and Mumbai. For the first time, Delhi edition was organized on 1 November 2014 at Dilli Haat INA.» [2] «Animal welfare and rights in India | Animal welfare and rights in India regards the treatment of and laws concerning non-human animals in India. It is distinct from animal conservation in India.» [3] «Dangerous Wild Animals Act 1976 | The Dangerous Wild Animals Act 1976 (22 July) is a law of the United Kingdom that was originally enacted to deal with the increasing fashion in the late 1960s and early\n",
      "Retrieved Contexts (truncated): ['Pet Fed India | Pet Fed is the biggest pet festival held in India, main edition held annually at New Delhi and Mumbai. For the first time, Delhi edition was organized on 1 November 2014 at Dilli Haat INA.', 'Animal welfare and rights in India | Animal welfare and rights in India regards the treatment of and laws concerning non-human animals in India. It is distinct from animal conservation in India.', 'Dangerous Wild Animals Act 1976 | The Dangerous Wild Animals Act 1976 (22 July) is a law of the United Kingdom that was originally enacted to deal with the increasing fashion in the late 1960s and early 1970s of people keeping interesting pets which were often from the more dangerous species, as well as hybrids between wild and domestic species, such as wolfdogs and Bengal cats. It was increasingly seen as unacceptable—in regard to public safety—for the average citizen to be able to acquire a potentially dangerous animal without some form of regulatory control.']\n"
     ]
    }
   ],
   "source": [
    "print(f\"\"\"Predicted Answer: {resp.answer}\"\"\")\n",
    "print(f\"\"\"Retrieved Contexts (truncated): {[c for c in resp.context]}\"\"\")"
   ]
  },
  {
   "cell_type": "code",
   "execution_count": 29,
   "id": "d7653a66-bff2-453e-93d5-f27ebb3dd739",
   "metadata": {},
   "outputs": [
    {
     "name": "stderr",
     "output_type": "stream",
     "text": [
      "huggingface/tokenizers: The current process just got forked, after parallelism has already been used. Disabling parallelism to avoid deadlocks...\n",
      "To disable this warning, you can either:\n",
      "\t- Avoid using `tokenizers` before the fork if possible\n",
      "\t- Explicitly set the environment variable TOKENIZERS_PARALLELISM=(true | false)\n"
     ]
    },
    {
     "name": "stdout",
     "output_type": "stream",
     "text": [
      "Requirement already satisfied: dspy-ai in ./venv/lib/python3.12/site-packages (2.4.13)\n",
      "Requirement already satisfied: backoff in ./venv/lib/python3.12/site-packages (from dspy-ai) (2.2.1)\n",
      "Requirement already satisfied: datasets in ./venv/lib/python3.12/site-packages (from dspy-ai) (2.20.0)\n",
      "Requirement already satisfied: joblib~=1.3 in ./venv/lib/python3.12/site-packages (from dspy-ai) (1.4.2)\n",
      "Requirement already satisfied: openai<2.0.0,>=0.28.1 in ./venv/lib/python3.12/site-packages (from dspy-ai) (1.40.3)\n",
      "Requirement already satisfied: optuna in ./venv/lib/python3.12/site-packages (from dspy-ai) (3.6.1)\n",
      "Requirement already satisfied: pandas in ./venv/lib/python3.12/site-packages (from dspy-ai) (2.2.2)\n",
      "Requirement already satisfied: pydantic~=2.0 in ./venv/lib/python3.12/site-packages (from dspy-ai) (2.8.2)\n",
      "Requirement already satisfied: regex in ./venv/lib/python3.12/site-packages (from dspy-ai) (2024.7.24)\n",
      "Requirement already satisfied: requests in ./venv/lib/python3.12/site-packages (from dspy-ai) (2.32.3)\n",
      "Requirement already satisfied: structlog in ./venv/lib/python3.12/site-packages (from dspy-ai) (24.4.0)\n",
      "Requirement already satisfied: tqdm in ./venv/lib/python3.12/site-packages (from dspy-ai) (4.66.5)\n",
      "Requirement already satisfied: ujson in ./venv/lib/python3.12/site-packages (from dspy-ai) (5.10.0)\n",
      "Requirement already satisfied: anyio<5,>=3.5.0 in ./venv/lib/python3.12/site-packages (from openai<2.0.0,>=0.28.1->dspy-ai) (4.4.0)\n",
      "Requirement already satisfied: distro<2,>=1.7.0 in ./venv/lib/python3.12/site-packages (from openai<2.0.0,>=0.28.1->dspy-ai) (1.9.0)\n",
      "Requirement already satisfied: httpx<1,>=0.23.0 in ./venv/lib/python3.12/site-packages (from openai<2.0.0,>=0.28.1->dspy-ai) (0.27.0)\n",
      "Requirement already satisfied: jiter<1,>=0.4.0 in ./venv/lib/python3.12/site-packages (from openai<2.0.0,>=0.28.1->dspy-ai) (0.5.0)\n",
      "Requirement already satisfied: sniffio in ./venv/lib/python3.12/site-packages (from openai<2.0.0,>=0.28.1->dspy-ai) (1.3.1)\n",
      "Requirement already satisfied: typing-extensions<5,>=4.11 in ./venv/lib/python3.12/site-packages (from openai<2.0.0,>=0.28.1->dspy-ai) (4.12.2)\n",
      "Requirement already satisfied: annotated-types>=0.4.0 in ./venv/lib/python3.12/site-packages (from pydantic~=2.0->dspy-ai) (0.7.0)\n",
      "Requirement already satisfied: pydantic-core==2.20.1 in ./venv/lib/python3.12/site-packages (from pydantic~=2.0->dspy-ai) (2.20.1)\n",
      "Requirement already satisfied: filelock in ./venv/lib/python3.12/site-packages (from datasets->dspy-ai) (3.15.4)\n",
      "Requirement already satisfied: numpy>=1.17 in ./venv/lib/python3.12/site-packages (from datasets->dspy-ai) (1.26.4)\n",
      "Requirement already satisfied: pyarrow>=15.0.0 in ./venv/lib/python3.12/site-packages (from datasets->dspy-ai) (17.0.0)\n",
      "Requirement already satisfied: pyarrow-hotfix in ./venv/lib/python3.12/site-packages (from datasets->dspy-ai) (0.6)\n",
      "Requirement already satisfied: dill<0.3.9,>=0.3.0 in ./venv/lib/python3.12/site-packages (from datasets->dspy-ai) (0.3.8)\n",
      "Requirement already satisfied: xxhash in ./venv/lib/python3.12/site-packages (from datasets->dspy-ai) (3.4.1)\n",
      "Requirement already satisfied: multiprocess in ./venv/lib/python3.12/site-packages (from datasets->dspy-ai) (0.70.16)\n",
      "Requirement already satisfied: fsspec[http]<=2024.5.0,>=2023.1.0 in ./venv/lib/python3.12/site-packages (from datasets->dspy-ai) (2024.5.0)\n",
      "Requirement already satisfied: aiohttp in ./venv/lib/python3.12/site-packages (from datasets->dspy-ai) (3.10.3)\n",
      "Requirement already satisfied: huggingface-hub>=0.21.2 in ./venv/lib/python3.12/site-packages (from datasets->dspy-ai) (0.24.5)\n",
      "Requirement already satisfied: packaging in ./venv/lib/python3.12/site-packages (from datasets->dspy-ai) (24.1)\n",
      "Requirement already satisfied: pyyaml>=5.1 in ./venv/lib/python3.12/site-packages (from datasets->dspy-ai) (6.0.2)\n",
      "Requirement already satisfied: charset-normalizer<4,>=2 in ./venv/lib/python3.12/site-packages (from requests->dspy-ai) (3.3.2)\n",
      "Requirement already satisfied: idna<4,>=2.5 in ./venv/lib/python3.12/site-packages (from requests->dspy-ai) (3.7)\n",
      "Requirement already satisfied: urllib3<3,>=1.21.1 in ./venv/lib/python3.12/site-packages (from requests->dspy-ai) (2.2.2)\n",
      "Requirement already satisfied: certifi>=2017.4.17 in ./venv/lib/python3.12/site-packages (from requests->dspy-ai) (2024.7.4)\n",
      "Requirement already satisfied: alembic>=1.5.0 in ./venv/lib/python3.12/site-packages (from optuna->dspy-ai) (1.13.2)\n",
      "Requirement already satisfied: colorlog in ./venv/lib/python3.12/site-packages (from optuna->dspy-ai) (6.8.2)\n",
      "Requirement already satisfied: sqlalchemy>=1.3.0 in ./venv/lib/python3.12/site-packages (from optuna->dspy-ai) (2.0.32)\n",
      "Requirement already satisfied: python-dateutil>=2.8.2 in ./venv/lib/python3.12/site-packages (from pandas->dspy-ai) (2.9.0.post0)\n",
      "Requirement already satisfied: pytz>=2020.1 in ./venv/lib/python3.12/site-packages (from pandas->dspy-ai) (2024.1)\n",
      "Requirement already satisfied: tzdata>=2022.7 in ./venv/lib/python3.12/site-packages (from pandas->dspy-ai) (2024.1)\n",
      "Requirement already satisfied: Mako in ./venv/lib/python3.12/site-packages (from alembic>=1.5.0->optuna->dspy-ai) (1.3.5)\n",
      "Requirement already satisfied: aiohappyeyeballs>=2.3.0 in ./venv/lib/python3.12/site-packages (from aiohttp->datasets->dspy-ai) (2.3.5)\n",
      "Requirement already satisfied: aiosignal>=1.1.2 in ./venv/lib/python3.12/site-packages (from aiohttp->datasets->dspy-ai) (1.3.1)\n",
      "Requirement already satisfied: attrs>=17.3.0 in ./venv/lib/python3.12/site-packages (from aiohttp->datasets->dspy-ai) (24.2.0)\n",
      "Requirement already satisfied: frozenlist>=1.1.1 in ./venv/lib/python3.12/site-packages (from aiohttp->datasets->dspy-ai) (1.4.1)\n",
      "Requirement already satisfied: multidict<7.0,>=4.5 in ./venv/lib/python3.12/site-packages (from aiohttp->datasets->dspy-ai) (6.0.5)\n",
      "Requirement already satisfied: yarl<2.0,>=1.0 in ./venv/lib/python3.12/site-packages (from aiohttp->datasets->dspy-ai) (1.9.4)\n",
      "Requirement already satisfied: httpcore==1.* in ./venv/lib/python3.12/site-packages (from httpx<1,>=0.23.0->openai<2.0.0,>=0.28.1->dspy-ai) (1.0.5)\n",
      "Requirement already satisfied: h11<0.15,>=0.13 in ./venv/lib/python3.12/site-packages (from httpcore==1.*->httpx<1,>=0.23.0->openai<2.0.0,>=0.28.1->dspy-ai) (0.14.0)\n",
      "Requirement already satisfied: six>=1.5 in ./venv/lib/python3.12/site-packages (from python-dateutil>=2.8.2->pandas->dspy-ai) (1.16.0)\n",
      "Requirement already satisfied: MarkupSafe>=0.9.2 in ./venv/lib/python3.12/site-packages (from Mako->alembic>=1.5.0->optuna->dspy-ai) (2.1.5)\n"
     ]
    }
   ],
   "source": [
    "!pip install dspy-ai["
   ]
  },
  {
   "cell_type": "code",
   "execution_count": 28,
   "id": "f2465407-3746-49ce-9640-a13d5d4461ad",
   "metadata": {},
   "outputs": [
    {
     "ename": "NameError",
     "evalue": "name 'dspy' is not defined",
     "output_type": "error",
     "traceback": [
      "\u001b[0;31m---------------------------------------------------------------------------\u001b[0m",
      "\u001b[0;31mNameError\u001b[0m                                 Traceback (most recent call last)",
      "Cell \u001b[0;32mIn[28], line 2\u001b[0m\n\u001b[1;32m      1\u001b[0m \u001b[38;5;28;01mimport\u001b[39;00m \u001b[38;5;21;01mdspy\u001b[39;00m\n\u001b[0;32m----> 2\u001b[0m \u001b[38;5;28;01mfrom\u001b[39;00m \u001b[38;5;21;01mdspy\u001b[39;00m\u001b[38;5;21;01m.\u001b[39;00m\u001b[38;5;21;01mretrieve\u001b[39;00m\u001b[38;5;21;01m.\u001b[39;00m\u001b[38;5;21;01mchromadb_rm\u001b[39;00m \u001b[38;5;28;01mimport\u001b[39;00m ChromadbRM\n\u001b[1;32m      3\u001b[0m \u001b[38;5;66;03m# import os\u001b[39;00m\n\u001b[1;32m      4\u001b[0m \u001b[38;5;66;03m# from chromadb.utils.embedding_functions import OpenAIEmbeddingFunction\u001b[39;00m\n\u001b[1;32m      5\u001b[0m \n\u001b[0;32m   (...)\u001b[0m\n\u001b[1;32m     21\u001b[0m \u001b[38;5;66;03m# for result in results:\u001b[39;00m\n\u001b[1;32m     22\u001b[0m \u001b[38;5;66;03m#     print(\"Document:\", result.long_text, \"\\n\")\u001b[39;00m\n",
      "File \u001b[0;32m~/dev/bootcamp_ai/venv/lib/python3.12/site-packages/dspy/retrieve/chromadb_rm.py:34\u001b[0m\n\u001b[1;32m     28\u001b[0m \u001b[38;5;28;01mexcept\u001b[39;00m \u001b[38;5;167;01mImportError\u001b[39;00m:\n\u001b[1;32m     29\u001b[0m     \u001b[38;5;28;01mraise\u001b[39;00m \u001b[38;5;167;01mImportError\u001b[39;00m(\n\u001b[1;32m     30\u001b[0m         \u001b[38;5;124m\"\u001b[39m\u001b[38;5;124mThe chromadb library is required to use ChromadbRM. Install it with `pip install dspy-ai[chromadb]`\u001b[39m\u001b[38;5;124m\"\u001b[39m,\n\u001b[1;32m     31\u001b[0m     )\n\u001b[0;32m---> 34\u001b[0m \u001b[38;5;28;01mclass\u001b[39;00m \u001b[38;5;21;01mChromadbRM\u001b[39;00m(\u001b[43mdspy\u001b[49m\u001b[38;5;241m.\u001b[39mRetrieve):\n\u001b[1;32m     35\u001b[0m \u001b[38;5;250m    \u001b[39m\u001b[38;5;124;03m\"\"\"\u001b[39;00m\n\u001b[1;32m     36\u001b[0m \u001b[38;5;124;03m    A retrieval module that uses chromadb to return the top passages for a given query.\u001b[39;00m\n\u001b[1;32m     37\u001b[0m \n\u001b[0;32m   (...)\u001b[0m\n\u001b[1;32m     77\u001b[0m \u001b[38;5;124;03m        ```\u001b[39;00m\n\u001b[1;32m     78\u001b[0m \u001b[38;5;124;03m    \"\"\"\u001b[39;00m\n\u001b[1;32m     80\u001b[0m     \u001b[38;5;28;01mdef\u001b[39;00m \u001b[38;5;21m__init__\u001b[39m(\n\u001b[1;32m     81\u001b[0m         \u001b[38;5;28mself\u001b[39m,\n\u001b[1;32m     82\u001b[0m         collection_name: \u001b[38;5;28mstr\u001b[39m,\n\u001b[0;32m   (...)\u001b[0m\n\u001b[1;32m     88\u001b[0m         k: \u001b[38;5;28mint\u001b[39m \u001b[38;5;241m=\u001b[39m \u001b[38;5;241m7\u001b[39m,\n\u001b[1;32m     89\u001b[0m     ):\n",
      "\u001b[0;31mNameError\u001b[0m: name 'dspy' is not defined"
     ]
    }
   ],
   "source": [
    "import dspy\n",
    "from dspy.retrieve.chromadb_rm import ChromadbRM\n",
    "# import os\n",
    "# from chromadb.utils.embedding_functions import OpenAIEmbeddingFunction\n",
    "\n",
    "# # Set up the ChromadbRM client\n",
    "# # embedding_function = OpenAIEmbeddingFunction(api_key=os.environ.get('OPENAI_API_KEY'), model_name=\"text-embedding-ada-002\")\n",
    "# retriever_model = ChromadbRM('docs', './db', embedding_function=\"llama3\", k=5)\n",
    "\n",
    "# # Configure DSPy settings\n",
    "# dspy.settings.configure(rm=retriever_model)\n",
    "\n",
    "# # Define the Retrieve module\n",
    "# retriever = dspy.Retrieve(k=5)\n",
    "\n",
    "# # Query the retrieval model\n",
    "# query = \"Explore the significance of quantum computing\"\n",
    "# results = retriever(query).passages\n",
    "\n",
    "# # Print the results\n",
    "# for result in results:\n",
    "#     print(\"Document:\", result.long_text, \"\\n\")\n"
   ]
  },
  {
   "cell_type": "code",
   "execution_count": null,
   "id": "d6b78d49-7b47-4c3d-a57f-98a0df6277b2",
   "metadata": {},
   "outputs": [],
   "source": []
  }
 ],
 "metadata": {
  "kernelspec": {
   "display_name": "Python 3 (ipykernel)",
   "language": "python",
   "name": "python3"
  },
  "language_info": {
   "codemirror_mode": {
    "name": "ipython",
    "version": 3
   },
   "file_extension": ".py",
   "mimetype": "text/x-python",
   "name": "python",
   "nbconvert_exporter": "python",
   "pygments_lexer": "ipython3",
   "version": "3.12.0"
  }
 },
 "nbformat": 4,
 "nbformat_minor": 5
}
