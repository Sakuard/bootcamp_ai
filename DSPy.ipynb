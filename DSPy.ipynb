{
 "cells": [
  {
   "cell_type": "markdown",
   "id": "efc1de3e-dd75-4b08-bda3-34903e337c99",
   "metadata": {},
   "source": [
    "## 可運行的 DSPy"
   ]
  },
  {
   "cell_type": "code",
   "execution_count": 1,
   "id": "b4419389-5436-4c31-8ebc-3b598c6bd514",
   "metadata": {},
   "outputs": [
    {
     "name": "stdout",
     "output_type": "stream",
     "text": [
      "Doki Doko Panic\n"
     ]
    }
   ],
   "source": [
    "# install DSPy: pip install dspy\n",
    "import dspy\n",
    "\n",
    "# Ollam is now compatible with OpenAI APIs\n",
    "# \n",
    "# To get this to work you must include `model_type='chat'` in the `dspy.OpenAI` call. \n",
    "# If you do not include this you will get an error. \n",
    "# \n",
    "# I have also found that `stop='\\n\\n'` is required to get the model to stop generating text after the ansewr is complete. \n",
    "# At least with mistral.\n",
    "\n",
    "ollama_model = dspy.OpenAI(api_base='http://localhost:11434/v1/', api_key='ollama', model='llama3', stop='\\n\\n', model_type='chat')\n",
    "\n",
    "# This sets the language model for DSPy.\n",
    "dspy.settings.configure(lm=ollama_model)\n",
    "\n",
    "# This is not required but it helps to understand what is happening\n",
    "my_example = {\n",
    "    \"question\": \"What game was Super Mario Bros. 2 based on?\",\n",
    "    \"answer\": \"Doki Doki Panic\",\n",
    "}\n",
    "\n",
    "# This is the signature for the predictor. It is a simple question and answer model.\n",
    "class BasicQA(dspy.Signature):\n",
    "    \"\"\"Answer questions about classic video games.\"\"\"\n",
    "\n",
    "    question = dspy.InputField(desc=\"a question about classic video games\")\n",
    "    answer = dspy.OutputField(desc=\"often between 1 and 5 words\")\n",
    "\n",
    "# Define the predictor.\n",
    "generate_answer = dspy.Predict(BasicQA)\n",
    "\n",
    "# Call the predictor on a particular input.\n",
    "pred = generate_answer(question=my_example['question'])\n",
    "\n",
    "# Print the answer...profit :)\n",
    "print(pred.answer)"
   ]
  },
  {
   "cell_type": "markdown",
   "id": "294513ca-a3e3-40ec-92f2-9c88ab199b8d",
   "metadata": {},
   "source": [
    "## YT demo code"
   ]
  },
  {
   "cell_type": "code",
   "execution_count": 30,
   "id": "4f89910d-7e7a-47f0-afb6-e56b875690f6",
   "metadata": {},
   "outputs": [
    {
     "name": "stderr",
     "output_type": "stream",
     "text": [
      "/Users/matt_huang/.pyenv/versions/3.12.0/lib/python3.12/pty.py:95: DeprecationWarning: This process (pid=24657) is multi-threaded, use of forkpty() may lead to deadlocks in the child.\n",
      "  pid, fd = os.forkpty()\n"
     ]
    },
    {
     "name": "stdout",
     "output_type": "stream",
     "text": [
      "Requirement already satisfied: rich in ./venv/lib/python3.12/site-packages (13.7.1)\n",
      "Requirement already satisfied: markdown-it-py>=2.2.0 in ./venv/lib/python3.12/site-packages (from rich) (3.0.0)\n",
      "Requirement already satisfied: pygments<3.0.0,>=2.13.0 in ./venv/lib/python3.12/site-packages (from rich) (2.18.0)\n",
      "Requirement already satisfied: mdurl~=0.1 in ./venv/lib/python3.12/site-packages (from markdown-it-py>=2.2.0->rich) (0.1.2)\n"
     ]
    }
   ],
   "source": [
    "!pip install rich"
   ]
  },
  {
   "cell_type": "code",
   "execution_count": 2,
   "id": "267e4c94-3e50-4b2e-850c-baefd3a4bcce",
   "metadata": {},
   "outputs": [],
   "source": [
    "import sys\n",
    "import os\n",
    "import dspy\n",
    "from dspy.datasets import HotPotQA\n",
    "from dspy.teleprompt import BootstrapFewShot\n",
    "from dspy.evaluate.evaluate import Evaluate\n",
    "from dsp.utils import deduplicate\n",
    "from rich import print"
   ]
  },
  {
   "cell_type": "markdown",
   "id": "28d18289-13bc-4493-9cd9-1ec9f76746a4",
   "metadata": {},
   "source": [
    "### 1. Configuration & Data Loading"
   ]
  },
  {
   "cell_type": "code",
   "execution_count": 3,
   "id": "8ac4b693-2d82-4bc4-b77d-1f77063a845e",
   "metadata": {},
   "outputs": [
    {
     "name": "stderr",
     "output_type": "stream",
     "text": [
      "/Users/matt_huang/Desktop/dev/bootcamp_ai/venv/lib/python3.12/site-packages/datasets/table.py:1421: FutureWarning: promote has been superseded by promote_options='default'.\n",
      "  table = cls._concat_blocks(blocks, axis=0)\n"
     ]
    },
    {
     "data": {
      "text/html": [
       "<pre style=\"white-space:pre;overflow-x:auto;line-height:normal;font-family:Menlo,'DejaVu Sans Mono',consolas,'Courier New',monospace\"><span style=\"color: #008080; text-decoration-color: #008080; font-weight: bold\">20</span> <span style=\"color: #008080; text-decoration-color: #008080; font-weight: bold\">50</span>\n",
       "</pre>\n"
      ],
      "text/plain": [
       "\u001b[1;36m20\u001b[0m \u001b[1;36m50\u001b[0m\n"
      ]
     },
     "metadata": {},
     "output_type": "display_data"
    },
    {
     "data": {
      "text/html": [
       "<pre style=\"white-space:pre;overflow-x:auto;line-height:normal;font-family:Menlo,'DejaVu Sans Mono',consolas,'Courier New',monospace\">Trainset Data <span style=\"font-weight: bold\">[</span><span style=\"color: #800080; text-decoration-color: #800080; font-weight: bold\">Example</span><span style=\"font-weight: bold\">({</span><span style=\"color: #008000; text-decoration-color: #008000\">'question'</span>: <span style=\"color: #008000; text-decoration-color: #008000\">'At My Window was released by which American singer-songwriter?'</span>, <span style=\"color: #008000; text-decoration-color: #008000\">'answer'</span>: \n",
       "<span style=\"color: #008000; text-decoration-color: #008000\">'John Townes Van Zandt'</span><span style=\"font-weight: bold\">})</span> <span style=\"font-weight: bold\">(</span><span style=\"color: #808000; text-decoration-color: #808000\">input_keys</span>=<span style=\"font-weight: bold\">{</span><span style=\"color: #008000; text-decoration-color: #008000\">'question'</span><span style=\"font-weight: bold\">})</span>, <span style=\"color: #800080; text-decoration-color: #800080; font-weight: bold\">Example</span><span style=\"font-weight: bold\">({</span><span style=\"color: #008000; text-decoration-color: #008000\">'question'</span>: <span style=\"color: #008000; text-decoration-color: #008000\">'which  American actor was Candace Kita  </span>\n",
       "<span style=\"color: #008000; text-decoration-color: #008000\">guest starred with '</span>, <span style=\"color: #008000; text-decoration-color: #008000\">'answer'</span>: <span style=\"color: #008000; text-decoration-color: #008000\">'Bill Murray'</span><span style=\"font-weight: bold\">})</span> <span style=\"font-weight: bold\">(</span><span style=\"color: #808000; text-decoration-color: #808000\">input_keys</span>=<span style=\"font-weight: bold\">{</span><span style=\"color: #008000; text-decoration-color: #008000\">'question'</span><span style=\"font-weight: bold\">})</span>, <span style=\"color: #800080; text-decoration-color: #800080; font-weight: bold\">Example</span><span style=\"font-weight: bold\">({</span><span style=\"color: #008000; text-decoration-color: #008000\">'question'</span>: <span style=\"color: #008000; text-decoration-color: #008000\">'Which of these </span>\n",
       "<span style=\"color: #008000; text-decoration-color: #008000\">publications was most recently published, Who Put the Bomp or Self?'</span>, <span style=\"color: #008000; text-decoration-color: #008000\">'answer'</span>: <span style=\"color: #008000; text-decoration-color: #008000\">'Self'</span><span style=\"font-weight: bold\">})</span> <span style=\"font-weight: bold\">(</span><span style=\"color: #808000; text-decoration-color: #808000\">input_keys</span>=<span style=\"font-weight: bold\">{</span><span style=\"color: #008000; text-decoration-color: #008000\">'question'</span><span style=\"font-weight: bold\">})</span>,\n",
       "<span style=\"color: #800080; text-decoration-color: #800080; font-weight: bold\">Example</span><span style=\"font-weight: bold\">({</span><span style=\"color: #008000; text-decoration-color: #008000\">'question'</span>: <span style=\"color: #008000; text-decoration-color: #008000\">'The Victorians - Their Story In Pictures is a documentary series written by an author born in</span>\n",
       "<span style=\"color: #008000; text-decoration-color: #008000\">what year?'</span>, <span style=\"color: #008000; text-decoration-color: #008000\">'answer'</span>: <span style=\"color: #008000; text-decoration-color: #008000\">'1950'</span><span style=\"font-weight: bold\">})</span> <span style=\"font-weight: bold\">(</span><span style=\"color: #808000; text-decoration-color: #808000\">input_keys</span>=<span style=\"font-weight: bold\">{</span><span style=\"color: #008000; text-decoration-color: #008000\">'question'</span><span style=\"font-weight: bold\">})</span>, <span style=\"color: #800080; text-decoration-color: #800080; font-weight: bold\">Example</span><span style=\"font-weight: bold\">({</span><span style=\"color: #008000; text-decoration-color: #008000\">'question'</span>: <span style=\"color: #008000; text-decoration-color: #008000\">'Which magazine has published </span>\n",
       "<span style=\"color: #008000; text-decoration-color: #008000\">articles by Scott Shaw, Tae Kwon Do Times or Southwest Art?'</span>, <span style=\"color: #008000; text-decoration-color: #008000\">'answer'</span>: <span style=\"color: #008000; text-decoration-color: #008000\">'Tae Kwon Do Times'</span><span style=\"font-weight: bold\">})</span> \n",
       "<span style=\"font-weight: bold\">(</span><span style=\"color: #808000; text-decoration-color: #808000\">input_keys</span>=<span style=\"font-weight: bold\">{</span><span style=\"color: #008000; text-decoration-color: #008000\">'question'</span><span style=\"font-weight: bold\">})]</span>\n",
       "</pre>\n"
      ],
      "text/plain": [
       "Trainset Data \u001b[1m[\u001b[0m\u001b[1;35mExample\u001b[0m\u001b[1m(\u001b[0m\u001b[1m{\u001b[0m\u001b[32m'question'\u001b[0m: \u001b[32m'At My Window was released by which American singer-songwriter?'\u001b[0m, \u001b[32m'answer'\u001b[0m: \n",
       "\u001b[32m'John Townes Van Zandt'\u001b[0m\u001b[1m}\u001b[0m\u001b[1m)\u001b[0m \u001b[1m(\u001b[0m\u001b[33minput_keys\u001b[0m=\u001b[1m{\u001b[0m\u001b[32m'question'\u001b[0m\u001b[1m}\u001b[0m\u001b[1m)\u001b[0m, \u001b[1;35mExample\u001b[0m\u001b[1m(\u001b[0m\u001b[1m{\u001b[0m\u001b[32m'question'\u001b[0m: \u001b[32m'which  American actor was Candace Kita  \u001b[0m\n",
       "\u001b[32mguest starred with '\u001b[0m, \u001b[32m'answer'\u001b[0m: \u001b[32m'Bill Murray'\u001b[0m\u001b[1m}\u001b[0m\u001b[1m)\u001b[0m \u001b[1m(\u001b[0m\u001b[33minput_keys\u001b[0m=\u001b[1m{\u001b[0m\u001b[32m'question'\u001b[0m\u001b[1m}\u001b[0m\u001b[1m)\u001b[0m, \u001b[1;35mExample\u001b[0m\u001b[1m(\u001b[0m\u001b[1m{\u001b[0m\u001b[32m'question'\u001b[0m: \u001b[32m'Which of these \u001b[0m\n",
       "\u001b[32mpublications was most recently published, Who Put the Bomp or Self?'\u001b[0m, \u001b[32m'answer'\u001b[0m: \u001b[32m'Self'\u001b[0m\u001b[1m}\u001b[0m\u001b[1m)\u001b[0m \u001b[1m(\u001b[0m\u001b[33minput_keys\u001b[0m=\u001b[1m{\u001b[0m\u001b[32m'question'\u001b[0m\u001b[1m}\u001b[0m\u001b[1m)\u001b[0m,\n",
       "\u001b[1;35mExample\u001b[0m\u001b[1m(\u001b[0m\u001b[1m{\u001b[0m\u001b[32m'question'\u001b[0m: \u001b[32m'The Victorians - Their Story In Pictures is a documentary series written by an author born in\u001b[0m\n",
       "\u001b[32mwhat year?'\u001b[0m, \u001b[32m'answer'\u001b[0m: \u001b[32m'1950'\u001b[0m\u001b[1m}\u001b[0m\u001b[1m)\u001b[0m \u001b[1m(\u001b[0m\u001b[33minput_keys\u001b[0m=\u001b[1m{\u001b[0m\u001b[32m'question'\u001b[0m\u001b[1m}\u001b[0m\u001b[1m)\u001b[0m, \u001b[1;35mExample\u001b[0m\u001b[1m(\u001b[0m\u001b[1m{\u001b[0m\u001b[32m'question'\u001b[0m: \u001b[32m'Which magazine has published \u001b[0m\n",
       "\u001b[32marticles by Scott Shaw, Tae Kwon Do Times or Southwest Art?'\u001b[0m, \u001b[32m'answer'\u001b[0m: \u001b[32m'Tae Kwon Do Times'\u001b[0m\u001b[1m}\u001b[0m\u001b[1m)\u001b[0m \n",
       "\u001b[1m(\u001b[0m\u001b[33minput_keys\u001b[0m=\u001b[1m{\u001b[0m\u001b[32m'question'\u001b[0m\u001b[1m}\u001b[0m\u001b[1m)\u001b[0m\u001b[1m]\u001b[0m\n"
      ]
     },
     "metadata": {},
     "output_type": "display_data"
    },
    {
     "data": {
      "text/html": [
       "<pre style=\"white-space:pre;overflow-x:auto;line-height:normal;font-family:Menlo,'DejaVu Sans Mono',consolas,'Courier New',monospace\">Devset Data <span style=\"font-weight: bold\">[</span><span style=\"color: #800080; text-decoration-color: #800080; font-weight: bold\">Example</span><span style=\"font-weight: bold\">({</span><span style=\"color: #008000; text-decoration-color: #008000\">'question'</span>: <span style=\"color: #008000; text-decoration-color: #008000\">'Are both Cangzhou and Qionghai in the Hebei province of China?'</span>, <span style=\"color: #008000; text-decoration-color: #008000\">'answer'</span>: <span style=\"color: #008000; text-decoration-color: #008000\">'no'</span>,\n",
       "<span style=\"color: #008000; text-decoration-color: #008000\">'gold_titles'</span>: <span style=\"font-weight: bold\">{</span><span style=\"color: #008000; text-decoration-color: #008000\">'Qionghai'</span>, <span style=\"color: #008000; text-decoration-color: #008000\">'Cangzhou'</span><span style=\"font-weight: bold\">}})</span> <span style=\"font-weight: bold\">(</span><span style=\"color: #808000; text-decoration-color: #808000\">input_keys</span>=<span style=\"font-weight: bold\">{</span><span style=\"color: #008000; text-decoration-color: #008000\">'question'</span><span style=\"font-weight: bold\">})</span>, <span style=\"color: #800080; text-decoration-color: #800080; font-weight: bold\">Example</span><span style=\"font-weight: bold\">({</span><span style=\"color: #008000; text-decoration-color: #008000\">'question'</span>: <span style=\"color: #008000; text-decoration-color: #008000\">'Who conducts the draft </span>\n",
       "<span style=\"color: #008000; text-decoration-color: #008000\">in which Marc-Andre Fleury was drafted to the Vegas Golden Knights for the 2017-18 season?'</span>, <span style=\"color: #008000; text-decoration-color: #008000\">'answer'</span>: <span style=\"color: #008000; text-decoration-color: #008000\">'National </span>\n",
       "<span style=\"color: #008000; text-decoration-color: #008000\">Hockey League'</span>, <span style=\"color: #008000; text-decoration-color: #008000\">'gold_titles'</span>: <span style=\"font-weight: bold\">{</span><span style=\"color: #008000; text-decoration-color: #008000\">'2017–18 Pittsburgh Penguins season'</span>, <span style=\"color: #008000; text-decoration-color: #008000\">'2017 NHL Expansion Draft'</span><span style=\"font-weight: bold\">}})</span> \n",
       "<span style=\"font-weight: bold\">(</span><span style=\"color: #808000; text-decoration-color: #808000\">input_keys</span>=<span style=\"font-weight: bold\">{</span><span style=\"color: #008000; text-decoration-color: #008000\">'question'</span><span style=\"font-weight: bold\">})</span>, <span style=\"color: #800080; text-decoration-color: #800080; font-weight: bold\">Example</span><span style=\"font-weight: bold\">({</span><span style=\"color: #008000; text-decoration-color: #008000\">'question'</span>: <span style=\"color: #008000; text-decoration-color: #008000\">'The Wings entered a new era, following the retirement of which </span>\n",
       "<span style=\"color: #008000; text-decoration-color: #008000\">Canadian retired professional ice hockey player and current general manager of the Tampa Bay Lightning of the </span>\n",
       "<span style=\"color: #008000; text-decoration-color: #008000\">National Hockey League (NHL)?'</span>, <span style=\"color: #008000; text-decoration-color: #008000\">'answer'</span>: <span style=\"color: #008000; text-decoration-color: #008000\">'Steve Yzerman'</span>, <span style=\"color: #008000; text-decoration-color: #008000\">'gold_titles'</span>: <span style=\"font-weight: bold\">{</span><span style=\"color: #008000; text-decoration-color: #008000\">'Steve Yzerman'</span>, <span style=\"color: #008000; text-decoration-color: #008000\">'2006–07 Detroit Red </span>\n",
       "<span style=\"color: #008000; text-decoration-color: #008000\">Wings season'</span><span style=\"font-weight: bold\">}})</span> <span style=\"font-weight: bold\">(</span><span style=\"color: #808000; text-decoration-color: #808000\">input_keys</span>=<span style=\"font-weight: bold\">{</span><span style=\"color: #008000; text-decoration-color: #008000\">'question'</span><span style=\"font-weight: bold\">})</span>, <span style=\"color: #800080; text-decoration-color: #800080; font-weight: bold\">Example</span><span style=\"font-weight: bold\">({</span><span style=\"color: #008000; text-decoration-color: #008000\">'question'</span>: <span style=\"color: #008000; text-decoration-color: #008000\">'What river is near the Crichton Collegiate </span>\n",
       "<span style=\"color: #008000; text-decoration-color: #008000\">Church?'</span>, <span style=\"color: #008000; text-decoration-color: #008000\">'answer'</span>: <span style=\"color: #008000; text-decoration-color: #008000\">'the River Tyne'</span>, <span style=\"color: #008000; text-decoration-color: #008000\">'gold_titles'</span>: <span style=\"font-weight: bold\">{</span><span style=\"color: #008000; text-decoration-color: #008000\">'Crichton Collegiate Church'</span>, <span style=\"color: #008000; text-decoration-color: #008000\">'Crichton Castle'</span><span style=\"font-weight: bold\">}})</span> \n",
       "<span style=\"font-weight: bold\">(</span><span style=\"color: #808000; text-decoration-color: #808000\">input_keys</span>=<span style=\"font-weight: bold\">{</span><span style=\"color: #008000; text-decoration-color: #008000\">'question'</span><span style=\"font-weight: bold\">})</span>, <span style=\"color: #800080; text-decoration-color: #800080; font-weight: bold\">Example</span><span style=\"font-weight: bold\">({</span><span style=\"color: #008000; text-decoration-color: #008000\">'question'</span>: <span style=\"color: #008000; text-decoration-color: #008000\">'In the 10th Century A.D. Ealhswith had a son called Æthelweard by </span>\n",
       "<span style=\"color: #008000; text-decoration-color: #008000\">which English king?'</span>, <span style=\"color: #008000; text-decoration-color: #008000\">'answer'</span>: <span style=\"color: #008000; text-decoration-color: #008000\">'King Alfred the Great'</span>, <span style=\"color: #008000; text-decoration-color: #008000\">'gold_titles'</span>: <span style=\"font-weight: bold\">{</span><span style=\"color: #008000; text-decoration-color: #008000\">'Æthelweard (son of Alfred)'</span>, \n",
       "<span style=\"color: #008000; text-decoration-color: #008000\">'Ealhswith'</span><span style=\"font-weight: bold\">}})</span> <span style=\"font-weight: bold\">(</span><span style=\"color: #808000; text-decoration-color: #808000\">input_keys</span>=<span style=\"font-weight: bold\">{</span><span style=\"color: #008000; text-decoration-color: #008000\">'question'</span><span style=\"font-weight: bold\">})]</span>\n",
       "</pre>\n"
      ],
      "text/plain": [
       "Devset Data \u001b[1m[\u001b[0m\u001b[1;35mExample\u001b[0m\u001b[1m(\u001b[0m\u001b[1m{\u001b[0m\u001b[32m'question'\u001b[0m: \u001b[32m'Are both Cangzhou and Qionghai in the Hebei province of China?'\u001b[0m, \u001b[32m'answer'\u001b[0m: \u001b[32m'no'\u001b[0m,\n",
       "\u001b[32m'gold_titles'\u001b[0m: \u001b[1m{\u001b[0m\u001b[32m'Qionghai'\u001b[0m, \u001b[32m'Cangzhou'\u001b[0m\u001b[1m}\u001b[0m\u001b[1m}\u001b[0m\u001b[1m)\u001b[0m \u001b[1m(\u001b[0m\u001b[33minput_keys\u001b[0m=\u001b[1m{\u001b[0m\u001b[32m'question'\u001b[0m\u001b[1m}\u001b[0m\u001b[1m)\u001b[0m, \u001b[1;35mExample\u001b[0m\u001b[1m(\u001b[0m\u001b[1m{\u001b[0m\u001b[32m'question'\u001b[0m: \u001b[32m'Who conducts the draft \u001b[0m\n",
       "\u001b[32min which Marc-Andre Fleury was drafted to the Vegas Golden Knights for the 2017-18 season?'\u001b[0m, \u001b[32m'answer'\u001b[0m: \u001b[32m'National \u001b[0m\n",
       "\u001b[32mHockey League'\u001b[0m, \u001b[32m'gold_titles'\u001b[0m: \u001b[1m{\u001b[0m\u001b[32m'2017–18 Pittsburgh Penguins season'\u001b[0m, \u001b[32m'2017 NHL Expansion Draft'\u001b[0m\u001b[1m}\u001b[0m\u001b[1m}\u001b[0m\u001b[1m)\u001b[0m \n",
       "\u001b[1m(\u001b[0m\u001b[33minput_keys\u001b[0m=\u001b[1m{\u001b[0m\u001b[32m'question'\u001b[0m\u001b[1m}\u001b[0m\u001b[1m)\u001b[0m, \u001b[1;35mExample\u001b[0m\u001b[1m(\u001b[0m\u001b[1m{\u001b[0m\u001b[32m'question'\u001b[0m: \u001b[32m'The Wings entered a new era, following the retirement of which \u001b[0m\n",
       "\u001b[32mCanadian retired professional ice hockey player and current general manager of the Tampa Bay Lightning of the \u001b[0m\n",
       "\u001b[32mNational Hockey League \u001b[0m\u001b[32m(\u001b[0m\u001b[32mNHL\u001b[0m\u001b[32m)\u001b[0m\u001b[32m?'\u001b[0m, \u001b[32m'answer'\u001b[0m: \u001b[32m'Steve Yzerman'\u001b[0m, \u001b[32m'gold_titles'\u001b[0m: \u001b[1m{\u001b[0m\u001b[32m'Steve Yzerman'\u001b[0m, \u001b[32m'2006–07 Detroit Red \u001b[0m\n",
       "\u001b[32mWings season'\u001b[0m\u001b[1m}\u001b[0m\u001b[1m}\u001b[0m\u001b[1m)\u001b[0m \u001b[1m(\u001b[0m\u001b[33minput_keys\u001b[0m=\u001b[1m{\u001b[0m\u001b[32m'question'\u001b[0m\u001b[1m}\u001b[0m\u001b[1m)\u001b[0m, \u001b[1;35mExample\u001b[0m\u001b[1m(\u001b[0m\u001b[1m{\u001b[0m\u001b[32m'question'\u001b[0m: \u001b[32m'What river is near the Crichton Collegiate \u001b[0m\n",
       "\u001b[32mChurch?'\u001b[0m, \u001b[32m'answer'\u001b[0m: \u001b[32m'the River Tyne'\u001b[0m, \u001b[32m'gold_titles'\u001b[0m: \u001b[1m{\u001b[0m\u001b[32m'Crichton Collegiate Church'\u001b[0m, \u001b[32m'Crichton Castle'\u001b[0m\u001b[1m}\u001b[0m\u001b[1m}\u001b[0m\u001b[1m)\u001b[0m \n",
       "\u001b[1m(\u001b[0m\u001b[33minput_keys\u001b[0m=\u001b[1m{\u001b[0m\u001b[32m'question'\u001b[0m\u001b[1m}\u001b[0m\u001b[1m)\u001b[0m, \u001b[1;35mExample\u001b[0m\u001b[1m(\u001b[0m\u001b[1m{\u001b[0m\u001b[32m'question'\u001b[0m: \u001b[32m'In the 10th Century A.D. Ealhswith had a son called Æthelweard by \u001b[0m\n",
       "\u001b[32mwhich English king?'\u001b[0m, \u001b[32m'answer'\u001b[0m: \u001b[32m'King Alfred the Great'\u001b[0m, \u001b[32m'gold_titles'\u001b[0m: \u001b[1m{\u001b[0m\u001b[32m'Æthelweard \u001b[0m\u001b[32m(\u001b[0m\u001b[32mson of Alfred\u001b[0m\u001b[32m)\u001b[0m\u001b[32m'\u001b[0m, \n",
       "\u001b[32m'Ealhswith'\u001b[0m\u001b[1m}\u001b[0m\u001b[1m}\u001b[0m\u001b[1m)\u001b[0m \u001b[1m(\u001b[0m\u001b[33minput_keys\u001b[0m=\u001b[1m{\u001b[0m\u001b[32m'question'\u001b[0m\u001b[1m}\u001b[0m\u001b[1m)\u001b[0m\u001b[1m]\u001b[0m\n"
      ]
     },
     "metadata": {},
     "output_type": "display_data"
    },
    {
     "data": {
      "text/html": [
       "<pre style=\"white-space:pre;overflow-x:auto;line-height:normal;font-family:Menlo,'DejaVu Sans Mono',consolas,'Courier New',monospace\">\n",
       "### Example Question with Answer ###\n",
       "\n",
       "</pre>\n"
      ],
      "text/plain": [
       "\n",
       "### Example Question with Answer ###\n",
       "\n"
      ]
     },
     "metadata": {},
     "output_type": "display_data"
    },
    {
     "data": {
      "text/html": [
       "<pre style=\"white-space:pre;overflow-x:auto;line-height:normal;font-family:Menlo,'DejaVu Sans Mono',consolas,'Courier New',monospace\">Question: What is the nationality of the chef and restaurateur featured in Restaurant: Impossible?\n",
       "</pre>\n"
      ],
      "text/plain": [
       "Question: What is the nationality of the chef and restaurateur featured in Restaurant: Impossible?\n"
      ]
     },
     "metadata": {},
     "output_type": "display_data"
    },
    {
     "data": {
      "text/html": [
       "<pre style=\"white-space:pre;overflow-x:auto;line-height:normal;font-family:Menlo,'DejaVu Sans Mono',consolas,'Courier New',monospace\">Answer: English\n",
       "</pre>\n"
      ],
      "text/plain": [
       "Answer: English\n"
      ]
     },
     "metadata": {},
     "output_type": "display_data"
    },
    {
     "data": {
      "text/html": [
       "<pre style=\"white-space:pre;overflow-x:auto;line-height:normal;font-family:Menlo,'DejaVu Sans Mono',consolas,'Courier New',monospace\">Relevant Wikipedia Titles: <span style=\"font-weight: bold\">{</span><span style=\"color: #008000; text-decoration-color: #008000\">'Restaurant: Impossible'</span>, <span style=\"color: #008000; text-decoration-color: #008000\">'Robert Irvine'</span><span style=\"font-weight: bold\">}</span>\n",
       "</pre>\n"
      ],
      "text/plain": [
       "Relevant Wikipedia Titles: \u001b[1m{\u001b[0m\u001b[32m'Restaurant: Impossible'\u001b[0m, \u001b[32m'Robert Irvine'\u001b[0m\u001b[1m}\u001b[0m\n"
      ]
     },
     "metadata": {},
     "output_type": "display_data"
    }
   ],
   "source": [
    "# turbo = dspy.OpenAI(model='gpt-3.5-turbo')\n",
    "ollama_model = dspy.OpenAI(api_base='http://localhost:11434/v1/', api_key='ollama', model='llama3', stop='\\n\\n', model_type='chat')\n",
    "colbertv2_wiki17_abstracts = dspy.ColBERTv2(url='http://20.102.90.50:2017/wiki17_abstracts')\n",
    "dspy.settings.configure(lm=ollama_model, rm=colbertv2_wiki17_abstracts)\n",
    "dataset = HotPotQA(train_seed=1, train_size=20, eval_seed=2023, dev_size=50, test_size=0)\n",
    "\n",
    "trainset = [x.with_inputs('question') for x in dataset.train]\n",
    "devset = [x.with_inputs('question') for x in dataset.dev]\n",
    "\n",
    "print(len(trainset), len(devset))\n",
    "print(f\"Trainset Data {trainset[:5]}\")\n",
    "print(f\"Devset Data {devset[:5]}\")\n",
    "\n",
    "print(\"\\n### Example Question with Answer ###\\n\")\n",
    "example = devset[18]\n",
    "print(f\"Question: {example.question}\")\n",
    "print(f\"Answer: {example.answer}\")\n",
    "print(f\"Relevant Wikipedia Titles: {example.gold_titles}\")"
   ]
  },
  {
   "cell_type": "markdown",
   "id": "8dfe5d92-d3b5-45f0-875f-3dfdf44fe8d7",
   "metadata": {},
   "source": [
    "### 2. Basic Chatbot"
   ]
  },
  {
   "cell_type": "code",
   "execution_count": 33,
   "id": "4c2e0861-a5f9-4b28-ba8b-a3378e5b1d6c",
   "metadata": {},
   "outputs": [
    {
     "data": {
      "text/html": [
       "<pre style=\"white-space:pre;overflow-x:auto;line-height:normal;font-family:Menlo,'DejaVu Sans Mono',consolas,'Courier New',monospace\">\n",
       "### Generate Response ###\n",
       "\n",
       "</pre>\n"
      ],
      "text/plain": [
       "\n",
       "### Generate Response ###\n",
       "\n"
      ]
     },
     "metadata": {},
     "output_type": "display_data"
    },
    {
     "data": {
      "text/html": [
       "<pre style=\"white-space:pre;overflow-x:auto;line-height:normal;font-family:Menlo,'DejaVu Sans Mono',consolas,'Courier New',monospace\">Question: What is the nationality of the chef and restaurateur featured in Restaurant: Impossible?\n",
       "Predicted Answer: Robert Irvine\n",
       "</pre>\n"
      ],
      "text/plain": [
       "Question: What is the nationality of the chef and restaurateur featured in Restaurant: Impossible?\n",
       "Predicted Answer: Robert Irvine\n"
      ]
     },
     "metadata": {},
     "output_type": "display_data"
    }
   ],
   "source": [
    "class BasicQA(dspy.Signature):  # A. Signature\n",
    "    \"\"\"Answer questions with short factoid answers.\"\"\"\n",
    "    question = dspy.InputField()\n",
    "    answer = dspy.OutputField(desc=\"often between 1 and 5 words\")\n",
    "\n",
    "print(\"\\n### Generate Response ###\\n\")\n",
    "generate_answer = dspy.Predict(BasicQA)\n",
    "pred = generate_answer(question=example.question)\n",
    "print(f\"Question: {example.question}\\nPredicted Answer: {pred.answer}\")"
   ]
  },
  {
   "cell_type": "markdown",
   "id": "92dd091f-fb53-4d87-b375-7ba23ac15773",
   "metadata": {},
   "source": [
    "### 3. Chatbot with Chain of Thought"
   ]
  },
  {
   "cell_type": "code",
   "execution_count": 34,
   "id": "62b8f5e0-6393-440b-bcf4-ef3bf131a4f9",
   "metadata": {},
   "outputs": [
    {
     "data": {
      "text/html": [
       "<pre style=\"white-space:pre;overflow-x:auto;line-height:normal;font-family:Menlo,'DejaVu Sans Mono',consolas,'Courier New',monospace\">\n",
       "### Generate Response with Chain of Thought ###\n",
       "\n",
       "</pre>\n"
      ],
      "text/plain": [
       "\n",
       "### Generate Response with Chain of Thought ###\n",
       "\n"
      ]
     },
     "metadata": {},
     "output_type": "display_data"
    },
    {
     "data": {
      "text/html": [
       "<pre style=\"white-space:pre;overflow-x:auto;line-height:normal;font-family:Menlo,'DejaVu Sans Mono',consolas,'Courier New',monospace\">Question: What is the nationality of the chef and restaurateur featured in Restaurant: Impossible?\n",
       "Thought: \n",
       "Predicted Answer: British\n",
       "</pre>\n"
      ],
      "text/plain": [
       "Question: What is the nationality of the chef and restaurateur featured in Restaurant: Impossible?\n",
       "Thought: \n",
       "Predicted Answer: British\n"
      ]
     },
     "metadata": {},
     "output_type": "display_data"
    }
   ],
   "source": [
    "print(\"\\n### Generate Response with Chain of Thought ###\\n\")\n",
    "generate_answer_with_chain_of_thought = dspy.ChainOfThought(BasicQA)\n",
    "pred = generate_answer_with_chain_of_thought(question=example.question)\n",
    "print(f\"Question: {example.question}\\nThought: {pred.rationale.split('.', 1)[1].strip()}\\nPredicted Answer: {pred.answer}\")"
   ]
  },
  {
   "cell_type": "markdown",
   "id": "add51559-dc79-4c01-8de3-a94f6bf911b9",
   "metadata": {},
   "source": [
    "### 4. Chatbot with Chain of Thought and Context = RAG --> (Retrieve, Generate Response)"
   ]
  },
  {
   "cell_type": "code",
   "execution_count": 35,
   "id": "91211312-75e8-4459-8532-938fb5545d71",
   "metadata": {},
   "outputs": [
    {
     "data": {
      "text/html": [
       "<pre style=\"white-space:pre;overflow-x:auto;line-height:normal;font-family:Menlo,'DejaVu Sans Mono',consolas,'Courier New',monospace\">\n",
       "### RAG: Generate Response with Chain of Thought and Context ###\n",
       "\n",
       "</pre>\n"
      ],
      "text/plain": [
       "\n",
       "### RAG: Generate Response with Chain of Thought and Context ###\n",
       "\n"
      ]
     },
     "metadata": {},
     "output_type": "display_data"
    },
    {
     "name": "stderr",
     "output_type": "stream",
     "text": [
      "100%|████████████████████████████████████████████████| 20/20 [27:16<00:00, 81.85s/it]\n"
     ]
    },
    {
     "name": "stdout",
     "output_type": "stream",
     "text": [
      "Bootstrapped 0 full traces after 20 examples in round 0.\n"
     ]
    },
    {
     "data": {
      "text/html": [
       "<pre style=\"white-space:pre;overflow-x:auto;line-height:normal;font-family:Menlo,'DejaVu Sans Mono',consolas,'Courier New',monospace\">Question: What castle did David Gregory inherit?\n",
       "</pre>\n"
      ],
      "text/plain": [
       "Question: What castle did David Gregory inherit?\n"
      ]
     },
     "metadata": {},
     "output_type": "display_data"
    },
    {
     "data": {
      "text/html": [
       "<pre style=\"white-space:pre;overflow-x:auto;line-height:normal;font-family:Menlo,'DejaVu Sans Mono',consolas,'Courier New',monospace\">Predicted Answer: Context: <span style=\"font-weight: bold\">[</span><span style=\"color: #008080; text-decoration-color: #008080; font-weight: bold\">1</span>\n",
       "</pre>\n"
      ],
      "text/plain": [
       "Predicted Answer: Context: \u001b[1m[\u001b[0m\u001b[1;36m1\u001b[0m\n"
      ]
     },
     "metadata": {},
     "output_type": "display_data"
    },
    {
     "data": {
      "text/html": [
       "<pre style=\"white-space:pre;overflow-x:auto;line-height:normal;font-family:Menlo,'DejaVu Sans Mono',consolas,'Courier New',monospace\">Retrieved Contexts <span style=\"font-weight: bold\">(</span>truncated<span style=\"font-weight: bold\">)</span>: <span style=\"font-weight: bold\">[</span><span style=\"color: #008000; text-decoration-color: #008000\">'David Gregory (physician) | David Gregory (20 December 1625 – 1720) was a </span>\n",
       "<span style=\"color: #008000; text-decoration-color: #008000\">Scottish physician and inventor. His surname is sometimes spelt as Gregorie, the original Scottish spelling. He </span>\n",
       "<span style=\"color: #008000; text-decoration-color: #008000\">inherited Kinn...'</span>, <span style=\"color: #008000; text-decoration-color: #008000\">'Gregory Tarchaneiotes | Gregory Tarchaneiotes (Greek: Γρηγόριος Ταρχανειώτης , Italian: </span>\n",
       "<span style=\"color: #008000; text-decoration-color: #008000\">\"Gregorio Tracanioto\" or \"Tracamoto\" ) was a \"protospatharius\" and the long-reigning catepan of Italy from 998 </span>\n",
       "<span style=\"color: #008000; text-decoration-color: #008000\">t...'</span>, <span style=\"color: #008000; text-decoration-color: #008000\">'David Gregory (mathematician) | David Gregory (originally spelt Gregorie) FRS (? 1659 – 10 October 1708) </span>\n",
       "<span style=\"color: #008000; text-decoration-color: #008000\">was a Scottish mathematician and astronomer. He was professor of mathematics at the University ...'</span><span style=\"font-weight: bold\">]</span>\n",
       "</pre>\n"
      ],
      "text/plain": [
       "Retrieved Contexts \u001b[1m(\u001b[0mtruncated\u001b[1m)\u001b[0m: \u001b[1m[\u001b[0m\u001b[32m'David Gregory \u001b[0m\u001b[32m(\u001b[0m\u001b[32mphysician\u001b[0m\u001b[32m)\u001b[0m\u001b[32m | David Gregory \u001b[0m\u001b[32m(\u001b[0m\u001b[32m20 December 1625 – 1720\u001b[0m\u001b[32m)\u001b[0m\u001b[32m was a \u001b[0m\n",
       "\u001b[32mScottish physician and inventor. His surname is sometimes spelt as Gregorie, the original Scottish spelling. He \u001b[0m\n",
       "\u001b[32minherited Kinn...'\u001b[0m, \u001b[32m'Gregory Tarchaneiotes | Gregory Tarchaneiotes \u001b[0m\u001b[32m(\u001b[0m\u001b[32mGreek: Γρηγόριος Ταρχανειώτης , Italian: \u001b[0m\n",
       "\u001b[32m\"Gregorio Tracanioto\" or \"Tracamoto\" \u001b[0m\u001b[32m)\u001b[0m\u001b[32m was a \"protospatharius\" and the long-reigning catepan of Italy from 998 \u001b[0m\n",
       "\u001b[32mt...'\u001b[0m, \u001b[32m'David Gregory \u001b[0m\u001b[32m(\u001b[0m\u001b[32mmathematician\u001b[0m\u001b[32m)\u001b[0m\u001b[32m | David Gregory \u001b[0m\u001b[32m(\u001b[0m\u001b[32moriginally spelt Gregorie\u001b[0m\u001b[32m)\u001b[0m\u001b[32m FRS \u001b[0m\u001b[32m(\u001b[0m\u001b[32m? 1659 – 10 October 1708\u001b[0m\u001b[32m)\u001b[0m\u001b[32m \u001b[0m\n",
       "\u001b[32mwas a Scottish mathematician and astronomer. He was professor of mathematics at the University ...'\u001b[0m\u001b[1m]\u001b[0m\n"
      ]
     },
     "metadata": {},
     "output_type": "display_data"
    }
   ],
   "source": [
    "print(\"\\n### RAG: Generate Response with Chain of Thought and Context ###\\n\")\n",
    "\n",
    "# 4a. Signature\n",
    "class GenerateAnswer(dspy.Signature): \n",
    "    \"\"\"Answer questions with short factoid answers.\"\"\"\n",
    "    context = dspy.InputField(desc=\"may contain relevant facts\")\n",
    "    question = dspy.InputField()\n",
    "    answer = dspy.OutputField(desc=\"often between 1 and 5 words\")\n",
    "\n",
    "# 4b. Module / Pipeline\n",
    "class RAG(dspy.Module): \n",
    "    def __init__(self, num_passages=3):\n",
    "        super().__init__()\n",
    "        self.retrieve = dspy.Retrieve(k=num_passages)\n",
    "        self.generate_answer = dspy.ChainOfThought(GenerateAnswer)\n",
    "    \n",
    "    def forward(self, question):\n",
    "        context = self.retrieve(question).passages\n",
    "        prediction = self.generate_answer(context=context, question=question)\n",
    "        return dspy.Prediction(context=context, answer=prediction.answer)\n",
    "\n",
    "# 4c. Optimizer / Optimising Pipeline\n",
    "def validate_context_and_answer(example, pred, trace=None): \n",
    "    answer_EM = dspy.evaluate.answer_exact_match(example, pred)\n",
    "    answer_PM = dspy.evaluate.answer_passage_match(example, pred)\n",
    "    return answer_EM and answer_PM\n",
    "\n",
    "teleprompter = BootstrapFewShot(metric=validate_context_and_answer) \n",
    "compiled_rag = teleprompter.compile(RAG(), trainset=trainset)\n",
    "\n",
    "# 4d. Executing Pipeline\n",
    "my_question = \"What castle did David Gregory inherit?\" \n",
    "pred = compiled_rag(my_question)\n",
    "\n",
    "print(f\"Question: {my_question}\")\n",
    "print(f\"Predicted Answer: {pred.answer}\")\n",
    "print(f\"Retrieved Contexts (truncated): {[c[:200] + '...' for c in pred.context]}\")"
   ]
  },
  {
   "cell_type": "markdown",
   "id": "9bd401f7-b693-4782-9c57-6bf31c68127a",
   "metadata": {},
   "source": [
    "### 5. Evaluating the Answers"
   ]
  },
  {
   "cell_type": "code",
   "execution_count": 39,
   "id": "8927fc82-164b-4579-bfdf-0e40791e95c7",
   "metadata": {},
   "outputs": [
    {
     "data": {
      "text/html": [
       "<pre style=\"white-space:pre;overflow-x:auto;line-height:normal;font-family:Menlo,'DejaVu Sans Mono',consolas,'Courier New',monospace\">\n",
       "### Evaluating the Answers ###\n",
       "\n",
       "</pre>\n"
      ],
      "text/plain": [
       "\n",
       "### Evaluating the Answers ###\n",
       "\n"
      ]
     },
     "metadata": {},
     "output_type": "display_data"
    },
    {
     "name": "stderr",
     "output_type": "stream",
     "text": [
      "\n",
      "\n",
      "  0%|                                                         | 0/50 [00:00<?, ?it/s]\u001b[A\u001b[A\n",
      "\n",
      "Average Metric: 0 / 1  (0.0):   0%|                           | 0/50 [00:00<?, ?it/s]\u001b[A\u001b[A\n",
      "\n",
      "Average Metric: 1 / 2  (50.0):   2%|▎                 | 1/50 [00:00<00:01, 35.77it/s]\u001b[A\u001b[A\n",
      "\n",
      "Average Metric: 2 / 3  (66.7):   4%|▋                 | 2/50 [00:00<00:00, 48.94it/s]\u001b[A\u001b[A\n",
      "\n",
      "Average Metric: 3 / 4  (75.0):   6%|█                 | 3/50 [00:00<00:00, 57.94it/s]\u001b[A\u001b[A\n",
      "\n",
      "Average Metric: 3 / 5  (60.0):   8%|█▍                | 4/50 [00:00<00:00, 65.83it/s]\u001b[A\u001b[A\n",
      "\n",
      "Average Metric: 4 / 6  (66.7):  10%|█▊                | 5/50 [00:00<00:00, 65.08it/s]\u001b[A\u001b[A\n",
      "\n",
      "Average Metric: 4 / 7  (57.1):  12%|██▏               | 6/50 [00:00<00:00, 67.52it/s]\u001b[A\u001b[A\n",
      "\n",
      "Average Metric: 5 / 8  (62.5):  14%|██▌               | 7/50 [00:00<00:00, 72.05it/s]\u001b[A\u001b[A\n",
      "\n",
      "Average Metric: 5 / 8  (62.5):  16%|██▉               | 8/50 [00:00<00:00, 78.82it/s]\u001b[A\u001b[A\n",
      "\n",
      "Average Metric: 5 / 9  (55.6):  16%|██▉               | 8/50 [00:00<00:00, 78.82it/s]\u001b[A\u001b[A\n",
      "\n",
      "Average Metric: 5 / 10  (50.0):  18%|███              | 9/50 [00:00<00:00, 78.82it/s]\u001b[A\u001b[A\n",
      "\n",
      "Average Metric: 5 / 11  (45.5):  20%|███▏            | 10/50 [00:00<00:00, 78.82it/s]\u001b[A\u001b[A\n",
      "\n",
      "Average Metric: 5 / 12  (41.7):  22%|███▌            | 11/50 [00:00<00:00, 78.82it/s]\u001b[A\u001b[A\n",
      "\n",
      "Average Metric: 5 / 13  (38.5):  24%|███▊            | 12/50 [00:00<00:00, 78.82it/s]\u001b[A\u001b[A\n",
      "\n",
      "Average Metric: 5 / 14  (35.7):  26%|████▏           | 13/50 [00:00<00:00, 78.82it/s]\u001b[A\u001b[A\n",
      "\n",
      "Average Metric: 5 / 15  (33.3):  28%|████▍           | 14/50 [00:00<00:00, 78.82it/s]\u001b[A\u001b[A\n",
      "\n",
      "Average Metric: 5 / 16  (31.2):  30%|████▊           | 15/50 [00:00<00:00, 78.82it/s]\u001b[A\u001b[A\n",
      "\n",
      "Average Metric: 5 / 16  (31.2):  32%|█████           | 16/50 [00:00<00:00, 75.87it/s]\u001b[A\u001b[A\n",
      "\n",
      "Average Metric: 5 / 17  (29.4):  32%|█████           | 16/50 [00:00<00:00, 75.87it/s]\u001b[A\u001b[A\n",
      "\n",
      "Average Metric: 5 / 18  (27.8):  34%|█████▍          | 17/50 [00:00<00:00, 75.87it/s]\u001b[A\u001b[A\n",
      "\n",
      "Average Metric: 5 / 19  (26.3):  36%|█████▊          | 18/50 [00:00<00:00, 75.87it/s]\u001b[A\u001b[A\n",
      "\n",
      "Average Metric: 5 / 20  (25.0):  38%|██████          | 19/50 [00:00<00:00, 75.87it/s]\u001b[A\u001b[A\n",
      "\n",
      "Average Metric: 5 / 21  (23.8):  40%|██████▍         | 20/50 [00:00<00:00, 75.87it/s]\u001b[A\u001b[A\n",
      "\n",
      "Average Metric: 6 / 22  (27.3):  42%|██████▋         | 21/50 [00:00<00:00, 75.87it/s]\u001b[A\u001b[A\n",
      "\n",
      "Average Metric: 7 / 23  (30.4):  44%|███████         | 22/50 [00:00<00:00, 75.87it/s]\u001b[A\u001b[A\n",
      "\n",
      "Average Metric: 7 / 24  (29.2):  46%|███████▎        | 23/50 [00:00<00:00, 75.87it/s]\u001b[A\u001b[A\n",
      "\n",
      "Average Metric: 7 / 25  (28.0):  48%|███████▋        | 24/50 [00:00<00:00, 75.87it/s]\u001b[A\u001b[A\n",
      "\n",
      "Average Metric: 7 / 26  (26.9):  50%|████████        | 25/50 [00:00<00:00, 75.87it/s]\u001b[A\u001b[A\n",
      "\n",
      "Average Metric: 7 / 27  (25.9):  52%|████████▎       | 26/50 [00:00<00:00, 75.87it/s]\u001b[A\u001b[A\n",
      "\n",
      "Average Metric: 7 / 28  (25.0):  54%|████████▋       | 27/50 [00:00<00:00, 75.87it/s]\u001b[A\u001b[A\n",
      "\n",
      "Average Metric: 7 / 28  (25.0):  56%|████████▉       | 28/50 [00:00<00:00, 93.50it/s]\u001b[A\u001b[A\n",
      "\n",
      "Average Metric: 7 / 29  (24.1):  56%|████████▉       | 28/50 [00:00<00:00, 93.50it/s]\u001b[A\u001b[A\n",
      "\n",
      "Average Metric: 8 / 30  (26.7):  58%|█████████▎      | 29/50 [00:00<00:00, 93.50it/s]\u001b[A\u001b[A\n",
      "\n",
      "Average Metric: 9 / 31  (29.0):  60%|█████████▌      | 30/50 [00:00<00:00, 93.50it/s]\u001b[A\u001b[A\n",
      "\n",
      "Average Metric: 10 / 32  (31.2):  62%|█████████▎     | 31/50 [00:00<00:00, 93.50it/s]\u001b[A\u001b[A\n",
      "\n",
      "Average Metric: 10 / 33  (30.3):  64%|█████████▌     | 32/50 [00:00<00:00, 93.50it/s]\u001b[A\u001b[A\n",
      "\n",
      "Average Metric: 10 / 34  (29.4):  66%|█████████▉     | 33/50 [00:00<00:00, 93.50it/s]\u001b[A\u001b[A\n",
      "\n",
      "Average Metric: 10 / 35  (28.6):  68%|██████████▏    | 34/50 [00:00<00:00, 93.50it/s]\u001b[A\u001b[A\n",
      "\n",
      "Average Metric: 10 / 36  (27.8):  70%|██████████▌    | 35/50 [00:00<00:00, 93.50it/s]\u001b[A\u001b[A\n",
      "\n",
      "Average Metric: 10 / 37  (27.0):  72%|██████████▊    | 36/50 [00:00<00:00, 93.50it/s]\u001b[A\u001b[A\n",
      "\n",
      "Average Metric: 10 / 38  (26.3):  74%|███████████    | 37/50 [00:00<00:00, 93.50it/s]\u001b[A\u001b[A\n",
      "\n",
      "Average Metric: 10 / 39  (25.6):  76%|███████████▍   | 38/50 [00:00<00:00, 93.50it/s]\u001b[A\u001b[A\n",
      "\n",
      "Average Metric: 11 / 40  (27.5):  78%|███████████▋   | 39/50 [00:00<00:00, 93.50it/s]\u001b[A\u001b[A\n",
      "\n",
      "Average Metric: 11 / 40  (27.5):  80%|███████████▏  | 40/50 [00:00<00:00, 102.67it/s]\u001b[A\u001b[A\n",
      "\n",
      "Average Metric: 12 / 41  (29.3):  80%|███████████▏  | 40/50 [00:00<00:00, 102.67it/s]\u001b[A\u001b[A\n",
      "\n",
      "Average Metric: 12 / 42  (28.6):  82%|███████████▍  | 41/50 [00:00<00:00, 102.67it/s]\u001b[A\u001b[A\n",
      "\n",
      "Average Metric: 12 / 43  (27.9):  84%|███████████▊  | 42/50 [00:00<00:00, 102.67it/s]\u001b[A\u001b[A\n",
      "\n",
      "Average Metric: 12 / 44  (27.3):  86%|████████████  | 43/50 [00:00<00:00, 102.67it/s]\u001b[A\u001b[A\n",
      "\n",
      "Average Metric: 12 / 45  (26.7):  88%|████████████▎ | 44/50 [00:00<00:00, 102.67it/s]\u001b[A\u001b[A\n",
      "\n",
      "Average Metric: 12 / 46  (26.1):  90%|████████████▌ | 45/50 [00:00<00:00, 102.67it/s]\u001b[A\u001b[A\n",
      "\n",
      "Average Metric: 12 / 47  (25.5):  92%|████████████▉ | 46/50 [00:00<00:00, 102.67it/s]\u001b[A\u001b[A\n",
      "\n",
      "Average Metric: 13 / 48  (27.1):  94%|█████████████▏| 47/50 [00:00<00:00, 102.67it/s]\u001b[A\u001b[A\n",
      "\n",
      "Average Metric: 13 / 49  (26.5):  96%|█████████████▍| 48/50 [00:00<00:00, 102.67it/s]\u001b[A\u001b[A\n",
      "\n",
      "Average Metric: 13 / 50  (26.0): 100%|██████████████| 50/50 [00:00<00:00, 100.30it/s]\u001b[A\u001b[A\n",
      "/Users/matt_huang/Desktop/dev/bootcamp_ai/venv/lib/python3.12/site-packages/dspy/evaluate/evaluate.py:266: FutureWarning: Setting an item of incompatible dtype is deprecated and will raise in a future error of pandas. Value '['False' '✔️ [True]' '✔️ [True]' '✔️ [True]' 'False']' has dtype incompatible with bool, please explicitly cast to a compatible dtype first.\n",
      "  df.loc[:, metric_name] = df[metric_name].apply(\n"
     ]
    },
    {
     "name": "stdout",
     "output_type": "stream",
     "text": [
      "Average Metric: 13 / 50  (26.0%)\n"
     ]
    },
    {
     "data": {
      "text/html": [
       "<style type=\"text/css\">\n",
       "#T_dc504 th {\n",
       "  text-align: left;\n",
       "}\n",
       "#T_dc504 td {\n",
       "  text-align: left;\n",
       "}\n",
       "#T_dc504_row0_col0, #T_dc504_row0_col1, #T_dc504_row0_col2, #T_dc504_row0_col3, #T_dc504_row0_col4, #T_dc504_row0_col5, #T_dc504_row1_col0, #T_dc504_row1_col1, #T_dc504_row1_col2, #T_dc504_row1_col3, #T_dc504_row1_col4, #T_dc504_row1_col5, #T_dc504_row2_col0, #T_dc504_row2_col1, #T_dc504_row2_col2, #T_dc504_row2_col3, #T_dc504_row2_col4, #T_dc504_row2_col5, #T_dc504_row3_col0, #T_dc504_row3_col1, #T_dc504_row3_col2, #T_dc504_row3_col3, #T_dc504_row3_col4, #T_dc504_row3_col5, #T_dc504_row4_col0, #T_dc504_row4_col1, #T_dc504_row4_col2, #T_dc504_row4_col3, #T_dc504_row4_col4, #T_dc504_row4_col5 {\n",
       "  text-align: left;\n",
       "  white-space: pre-wrap;\n",
       "  word-wrap: break-word;\n",
       "  max-width: 400px;\n",
       "}\n",
       "</style>\n",
       "<table id=\"T_dc504\">\n",
       "  <thead>\n",
       "    <tr>\n",
       "      <th class=\"blank level0\" >&nbsp;</th>\n",
       "      <th id=\"T_dc504_level0_col0\" class=\"col_heading level0 col0\" >question</th>\n",
       "      <th id=\"T_dc504_level0_col1\" class=\"col_heading level0 col1\" >example_answer</th>\n",
       "      <th id=\"T_dc504_level0_col2\" class=\"col_heading level0 col2\" >gold_titles</th>\n",
       "      <th id=\"T_dc504_level0_col3\" class=\"col_heading level0 col3\" >context</th>\n",
       "      <th id=\"T_dc504_level0_col4\" class=\"col_heading level0 col4\" >pred_answer</th>\n",
       "      <th id=\"T_dc504_level0_col5\" class=\"col_heading level0 col5\" >gold_passages_retrieved</th>\n",
       "    </tr>\n",
       "  </thead>\n",
       "  <tbody>\n",
       "    <tr>\n",
       "      <th id=\"T_dc504_level0_row0\" class=\"row_heading level0 row0\" >0</th>\n",
       "      <td id=\"T_dc504_row0_col0\" class=\"data row0 col0\" >Are both Cangzhou and Qionghai in the Hebei province of China?</td>\n",
       "      <td id=\"T_dc504_row0_col1\" class=\"data row0 col1\" >no</td>\n",
       "      <td id=\"T_dc504_row0_col2\" class=\"data row0 col2\" >{'Cangzhou', 'Qionghai'}</td>\n",
       "      <td id=\"T_dc504_row0_col3\" class=\"data row0 col3\" >['Cangzhou | Cangzhou () is a prefecture-level city in eastern Hebei province, People\\'s Republic of China. At the 2010 census, Cangzhou\\'s built-up (\"or metro\") area...</td>\n",
       "      <td id=\"T_dc504_row0_col4\" class=\"data row0 col4\" >Context</td>\n",
       "      <td id=\"T_dc504_row0_col5\" class=\"data row0 col5\" >False</td>\n",
       "    </tr>\n",
       "    <tr>\n",
       "      <th id=\"T_dc504_level0_row1\" class=\"row_heading level0 row1\" >1</th>\n",
       "      <td id=\"T_dc504_row1_col0\" class=\"data row1 col0\" >Who conducts the draft in which Marc-Andre Fleury was drafted to the Vegas Golden Knights for the 2017-18 season?</td>\n",
       "      <td id=\"T_dc504_row1_col1\" class=\"data row1 col1\" >National Hockey League</td>\n",
       "      <td id=\"T_dc504_row1_col2\" class=\"data row1 col2\" >{'2017 NHL Expansion Draft', '2017–18 Pittsburgh Penguins season'}</td>\n",
       "      <td id=\"T_dc504_row1_col3\" class=\"data row1 col3\" >['2017–18 Pittsburgh Penguins season | The 2017–18 Pittsburgh Penguins season will be the 51st season for the National Hockey League ice hockey team that was...</td>\n",
       "      <td id=\"T_dc504_row1_col4\" class=\"data row1 col4\" >Context</td>\n",
       "      <td id=\"T_dc504_row1_col5\" class=\"data row1 col5\" >✔️ [True]</td>\n",
       "    </tr>\n",
       "    <tr>\n",
       "      <th id=\"T_dc504_level0_row2\" class=\"row_heading level0 row2\" >2</th>\n",
       "      <td id=\"T_dc504_row2_col0\" class=\"data row2 col0\" >The Wings entered a new era, following the retirement of which Canadian retired professional ice hockey player and current general manager of the Tampa Bay...</td>\n",
       "      <td id=\"T_dc504_row2_col1\" class=\"data row2 col1\" >Steve Yzerman</td>\n",
       "      <td id=\"T_dc504_row2_col2\" class=\"data row2 col2\" >{'Steve Yzerman', '2006–07 Detroit Red Wings season'}</td>\n",
       "      <td id=\"T_dc504_row2_col3\" class=\"data row2 col3\" >['Steve Yzerman | Stephen Gregory \"Steve\" Yzerman ( ; born May 9, 1965) is a Canadian retired professional ice hockey player and current general manager...</td>\n",
       "      <td id=\"T_dc504_row2_col4\" class=\"data row2 col4\" >Context</td>\n",
       "      <td id=\"T_dc504_row2_col5\" class=\"data row2 col5\" >✔️ [True]</td>\n",
       "    </tr>\n",
       "    <tr>\n",
       "      <th id=\"T_dc504_level0_row3\" class=\"row_heading level0 row3\" >3</th>\n",
       "      <td id=\"T_dc504_row3_col0\" class=\"data row3 col0\" >What river is near the Crichton Collegiate Church?</td>\n",
       "      <td id=\"T_dc504_row3_col1\" class=\"data row3 col1\" >the River Tyne</td>\n",
       "      <td id=\"T_dc504_row3_col2\" class=\"data row3 col2\" >{'Crichton Collegiate Church', 'Crichton Castle'}</td>\n",
       "      <td id=\"T_dc504_row3_col3\" class=\"data row3 col3\" >[\"Crichton Collegiate Church | Crichton Collegiate Church is situated about 0.6 mi south west of the hamlet of Crichton in Midlothian, Scotland. Crichton itself is...</td>\n",
       "      <td id=\"T_dc504_row3_col4\" class=\"data row3 col4\" >Context</td>\n",
       "      <td id=\"T_dc504_row3_col5\" class=\"data row3 col5\" >✔️ [True]</td>\n",
       "    </tr>\n",
       "    <tr>\n",
       "      <th id=\"T_dc504_level0_row4\" class=\"row_heading level0 row4\" >4</th>\n",
       "      <td id=\"T_dc504_row4_col0\" class=\"data row4 col0\" >In the 10th Century A.D. Ealhswith had a son called Æthelweard by which English king?</td>\n",
       "      <td id=\"T_dc504_row4_col1\" class=\"data row4 col1\" >King Alfred the Great</td>\n",
       "      <td id=\"T_dc504_row4_col2\" class=\"data row4 col2\" >{'Æthelweard (son of Alfred)', 'Ealhswith'}</td>\n",
       "      <td id=\"T_dc504_row4_col3\" class=\"data row4 col3\" >[\"Æthelweard of East Anglia | Æthelweard (died 854) was a 9th-century king of East Anglia, the long-lived Anglo-Saxon kingdom which today includes the English counties...</td>\n",
       "      <td id=\"T_dc504_row4_col4\" class=\"data row4 col4\" >Context: [2] «Æthelweard (son of Alfred) | Æthelweard (d. 920 or 922) was the younger son of King Alfred the Great and Ealhswith</td>\n",
       "      <td id=\"T_dc504_row4_col5\" class=\"data row4 col5\" >False</td>\n",
       "    </tr>\n",
       "  </tbody>\n",
       "</table>\n"
      ],
      "text/plain": [
       "<pandas.io.formats.style.Styler at 0x12d4491c0>"
      ]
     },
     "metadata": {},
     "output_type": "display_data"
    },
    {
     "data": {
      "text/html": [
       "\n",
       "                <div style='\n",
       "                    text-align: center;\n",
       "                    font-size: 16px;\n",
       "                    font-weight: bold;\n",
       "                    color: #555;\n",
       "                    margin: 10px 0;'>\n",
       "                    ... 45 more rows not displayed ...\n",
       "                </div>\n",
       "                "
      ],
      "text/plain": [
       "<IPython.core.display.HTML object>"
      ]
     },
     "metadata": {},
     "output_type": "display_data"
    },
    {
     "data": {
      "text/html": [
       "<pre style=\"white-space:pre;overflow-x:auto;line-height:normal;font-family:Menlo,'DejaVu Sans Mono',consolas,'Courier New',monospace\">Question: What castle did David Gregory inherit?\n",
       "</pre>\n"
      ],
      "text/plain": [
       "Question: What castle did David Gregory inherit?\n"
      ]
     },
     "metadata": {},
     "output_type": "display_data"
    },
    {
     "data": {
      "text/html": [
       "<pre style=\"white-space:pre;overflow-x:auto;line-height:normal;font-family:Menlo,'DejaVu Sans Mono',consolas,'Courier New',monospace\">Predicted Answer: Glamis\n",
       "</pre>\n"
      ],
      "text/plain": [
       "Predicted Answer: Glamis\n"
      ]
     },
     "metadata": {},
     "output_type": "display_data"
    },
    {
     "data": {
      "text/html": [
       "<pre style=\"white-space:pre;overflow-x:auto;line-height:normal;font-family:Menlo,'DejaVu Sans Mono',consolas,'Courier New',monospace\">Retrieved Contexts <span style=\"font-weight: bold\">(</span>truncated<span style=\"font-weight: bold\">)</span>: <span style=\"font-weight: bold\">[</span><span style=\"color: #008000; text-decoration-color: #008000\">'Complete (The Smiths album) | Complete is a box set released by British band The </span>\n",
       "<span style=\"color: #008000; text-decoration-color: #008000\">Smiths on 26 September 2011. Standard versions contain their four studio albums (\"The Smiths\", \"Meat Is Murder\", </span>\n",
       "<span style=\"color: #008000; text-decoration-color: #008000\">\"The Q...'</span>, <span style=\"color: #008000; text-decoration-color: #008000\">\"The Complete Works (Queen album) | The Complete Works is a boxed set issued by the rock band Queen in </span>\n",
       "<span style=\"color: #008000; text-decoration-color: #008000\">1985. It contained all of the band's original studio albums, live album and non-album tracks to th...\"</span>, <span style=\"color: #008000; text-decoration-color: #008000\">'The </span>\n",
       "<span style=\"color: #008000; text-decoration-color: #008000\">Complete History (album) | The Complete History is a compilation album released by 2 Unlimited on February 9, 2004 </span>\n",
       "<span style=\"color: #008000; text-decoration-color: #008000\">through ZYX Music label The record was released in two formats: as a single CD ed...'</span>, <span style=\"color: #008000; text-decoration-color: #008000\">'What You Get Is What You </span>\n",
       "<span style=\"color: #008000; text-decoration-color: #008000\">See | \"What You Get Is What You See\" is a song by recording artist Tina Turner from her album \"Break Every Rule\" </span>\n",
       "<span style=\"color: #008000; text-decoration-color: #008000\">(1986). The song was written by the Terry Britten and Graham L...'</span>, <span style=\"color: #008000; text-decoration-color: #008000\">'What You See Is What You Get (song) | \"What </span>\n",
       "<span style=\"color: #008000; text-decoration-color: #008000\">You See Is What You Get\" is the first single by duo Stoney &amp; Meatloaf. It was released ahead of the release of the </span>\n",
       "<span style=\"color: #008000; text-decoration-color: #008000\">duo\\'s only album \"Stoney &amp; Meatloaf\" in 1...'</span>, <span style=\"color: #008000; text-decoration-color: #008000\">'What You See Is What You Get (EP) | What You See Is What You Get </span>\n",
       "<span style=\"color: #008000; text-decoration-color: #008000\">is an EP by the band Pitchshifter. Tracks 3–6 were recorded live at Le Plan, Ris Orangis, France in May 1998....'</span><span style=\"font-weight: bold\">]</span>\n",
       "</pre>\n"
      ],
      "text/plain": [
       "Retrieved Contexts \u001b[1m(\u001b[0mtruncated\u001b[1m)\u001b[0m: \u001b[1m[\u001b[0m\u001b[32m'Complete \u001b[0m\u001b[32m(\u001b[0m\u001b[32mThe Smiths album\u001b[0m\u001b[32m)\u001b[0m\u001b[32m | Complete is a box set released by British band The \u001b[0m\n",
       "\u001b[32mSmiths on 26 September 2011. Standard versions contain their four studio albums \u001b[0m\u001b[32m(\u001b[0m\u001b[32m\"The Smiths\", \"Meat Is Murder\", \u001b[0m\n",
       "\u001b[32m\"The Q...'\u001b[0m, \u001b[32m\"The Complete Works \u001b[0m\u001b[32m(\u001b[0m\u001b[32mQueen album\u001b[0m\u001b[32m)\u001b[0m\u001b[32m | The Complete Works is a boxed set issued by the rock band Queen in \u001b[0m\n",
       "\u001b[32m1985. It contained all of the band's original studio albums, live album and non-album tracks to th...\"\u001b[0m, \u001b[32m'The \u001b[0m\n",
       "\u001b[32mComplete History \u001b[0m\u001b[32m(\u001b[0m\u001b[32malbum\u001b[0m\u001b[32m)\u001b[0m\u001b[32m | The Complete History is a compilation album released by 2 Unlimited on February 9, 2004 \u001b[0m\n",
       "\u001b[32mthrough ZYX Music label The record was released in two formats: as a single CD ed...'\u001b[0m, \u001b[32m'What You Get Is What You \u001b[0m\n",
       "\u001b[32mSee | \"What You Get Is What You See\" is a song by recording artist Tina Turner from her album \"Break Every Rule\" \u001b[0m\n",
       "\u001b[32m(\u001b[0m\u001b[32m1986\u001b[0m\u001b[32m)\u001b[0m\u001b[32m. The song was written by the Terry Britten and Graham L...'\u001b[0m, \u001b[32m'What You See Is What You Get \u001b[0m\u001b[32m(\u001b[0m\u001b[32msong\u001b[0m\u001b[32m)\u001b[0m\u001b[32m | \"What \u001b[0m\n",
       "\u001b[32mYou See Is What You Get\" is the first single by duo Stoney & Meatloaf. It was released ahead of the release of the \u001b[0m\n",
       "\u001b[32mduo\\'s only album \"Stoney & Meatloaf\" in 1...'\u001b[0m, \u001b[32m'What You See Is What You Get \u001b[0m\u001b[32m(\u001b[0m\u001b[32mEP\u001b[0m\u001b[32m)\u001b[0m\u001b[32m | What You See Is What You Get \u001b[0m\n",
       "\u001b[32mis an EP by the band Pitchshifter. Tracks 3–6 were recorded live at Le Plan, Ris Orangis, France in May 1998....'\u001b[0m\u001b[1m]\u001b[0m\n"
      ]
     },
     "metadata": {},
     "output_type": "display_data"
    },
    {
     "name": "stderr",
     "output_type": "stream",
     "text": [
      "\n",
      "\n",
      "  0%|                                                         | 0/20 [00:00<?, ?it/s]\u001b[A\u001b[A\n",
      "\n",
      "100%|███████████████████████████████████████████████| 20/20 [00:00<00:00, 114.24it/s]\u001b[A\u001b[A\n"
     ]
    },
    {
     "name": "stdout",
     "output_type": "stream",
     "text": [
      "Bootstrapped 0 full traces after 20 examples in round 0.\n"
     ]
    },
    {
     "name": "stderr",
     "output_type": "stream",
     "text": [
      "\n",
      "\n",
      "  0%|                                                         | 0/50 [00:00<?, ?it/s]\u001b[A\u001b[A\n",
      "\n",
      "Average Metric: 0 / 1  (0.0):   0%|                           | 0/50 [00:00<?, ?it/s]\u001b[A\u001b[A\n",
      "\n",
      "Average Metric: 0 / 2  (0.0):   2%|▍                  | 1/50 [00:00<00:00, 57.76it/s]\u001b[A\u001b[A\n",
      "\n",
      "Average Metric: 0 / 3  (0.0):   4%|▊                  | 2/50 [00:00<00:00, 71.88it/s]\u001b[A\u001b[A\n",
      "\n",
      "Average Metric: 0 / 4  (0.0):   6%|█▏                 | 3/50 [00:00<00:00, 77.26it/s]\u001b[A\u001b[A\n",
      "\n",
      "Average Metric: 0 / 5  (0.0):   8%|█▌                 | 4/50 [00:00<00:00, 85.03it/s]\u001b[A\u001b[A\n",
      "\n",
      "Average Metric: 0 / 6  (0.0):  10%|█▉                 | 5/50 [00:00<00:00, 89.42it/s]\u001b[A\u001b[A\n",
      "\n",
      "Average Metric: 0 / 7  (0.0):  12%|██▎                | 6/50 [00:00<00:00, 88.00it/s]\u001b[A\u001b[A\n",
      "\n",
      "Average Metric: 0 / 8  (0.0):  14%|██▋                | 7/50 [00:00<00:00, 86.24it/s]\u001b[A\u001b[A\n",
      "\n",
      "Average Metric: 0 / 9  (0.0):  16%|███                | 8/50 [00:00<00:00, 87.34it/s]\u001b[A\u001b[A\n",
      "\n",
      "Average Metric: 0 / 10  (0.0):  18%|███▏              | 9/50 [00:00<00:00, 89.63it/s]\u001b[A\u001b[A\n",
      "\n",
      "Average Metric: 0 / 10  (0.0):  20%|███▍             | 10/50 [00:00<00:00, 96.31it/s]\u001b[A\u001b[A\n",
      "\n",
      "Average Metric: 0 / 11  (0.0):  20%|███▍             | 10/50 [00:00<00:00, 96.31it/s]\u001b[A\u001b[A\n",
      "\n",
      "Average Metric: 0 / 12  (0.0):  22%|███▋             | 11/50 [00:00<00:00, 96.31it/s]\u001b[A\u001b[A\n",
      "\n",
      "Average Metric: 0 / 13  (0.0):  24%|████             | 12/50 [00:00<00:00, 96.31it/s]\u001b[A\u001b[A\n",
      "\n",
      "Average Metric: 0 / 14  (0.0):  26%|████▍            | 13/50 [00:00<00:00, 96.31it/s]\u001b[A\u001b[A\n",
      "\n",
      "Average Metric: 0 / 15  (0.0):  28%|████▊            | 14/50 [00:00<00:00, 96.31it/s]\u001b[A\u001b[A\n",
      "\n",
      "Average Metric: 0 / 16  (0.0):  30%|█████            | 15/50 [00:00<00:00, 96.31it/s]\u001b[A\u001b[A\n",
      "\n",
      "Average Metric: 0 / 17  (0.0):  32%|█████▍           | 16/50 [00:00<00:00, 96.31it/s]\u001b[A\u001b[A\n",
      "\n",
      "Average Metric: 0 / 18  (0.0):  34%|█████▊           | 17/50 [00:00<00:00, 96.31it/s]\u001b[A\u001b[A\n",
      "\n",
      "Average Metric: 0 / 19  (0.0):  36%|██████           | 18/50 [00:00<00:00, 96.31it/s]\u001b[A\u001b[A\n",
      "\n",
      "Average Metric: 0 / 20  (0.0):  38%|██████▍          | 19/50 [00:00<00:00, 96.31it/s]\u001b[A\u001b[A\n",
      "\n",
      "Average Metric: 0 / 20  (0.0):  40%|██████▊          | 20/50 [00:00<00:00, 71.00it/s]\u001b[A\u001b[A\n",
      "\n",
      "Average Metric: 0 / 21  (0.0):  40%|██████▊          | 20/50 [00:00<00:00, 71.00it/s]\u001b[A\u001b[A\n",
      "\n",
      "Average Metric: 0 / 22  (0.0):  42%|███████▏         | 21/50 [00:00<00:00, 71.00it/s]\u001b[A\u001b[A\n",
      "\n",
      "Average Metric: 0 / 23  (0.0):  44%|███████▍         | 22/50 [00:00<00:00, 71.00it/s]\u001b[A\u001b[A\n",
      "\n",
      "Average Metric: 0 / 24  (0.0):  46%|███████▊         | 23/50 [00:00<00:00, 71.00it/s]\u001b[A\u001b[A\n",
      "\n",
      "Average Metric: 0 / 25  (0.0):  48%|████████▏        | 24/50 [00:00<00:00, 71.00it/s]\u001b[A\u001b[A\n",
      "\n",
      "Average Metric: 0 / 26  (0.0):  50%|████████▌        | 25/50 [00:00<00:00, 71.00it/s]\u001b[A\u001b[A\n",
      "\n",
      "Average Metric: 0 / 27  (0.0):  52%|████████▊        | 26/50 [00:00<00:00, 71.00it/s]\u001b[A\u001b[A\n",
      "\n",
      "Average Metric: 0 / 27  (0.0):  54%|█████████▏       | 27/50 [00:14<00:00, 71.00it/s]\u001b[A\u001b[A\n",
      "\n",
      "Average Metric: 0 / 28  (0.0):  54%|█████████▏       | 27/50 [01:01<00:00, 71.00it/s]\u001b[A\u001b[A\n",
      "\n",
      "Average Metric: 0 / 28  (0.0):  56%|█████████▌       | 28/50 [01:01<01:07,  3.07s/it]\u001b[A\u001b[A\n",
      "\n",
      "Average Metric: 0 / 29  (0.0):  56%|█████████▌       | 28/50 [03:08<01:07,  3.07s/it]\u001b[A\u001b[A\n",
      "\n",
      "Average Metric: 0 / 29  (0.0):  58%|█████████▊       | 29/50 [03:08<03:59, 11.42s/it]\u001b[A\u001b[A\n",
      "\n",
      "Average Metric: 0 / 30  (0.0):  58%|█████████▊       | 29/50 [05:10<03:59, 11.42s/it]\u001b[A\u001b[A\n",
      "\n",
      "Average Metric: 0 / 30  (0.0):  60%|██████████▏      | 30/50 [05:10<07:01, 21.06s/it]\u001b[A\u001b[A\n",
      "\n",
      "Average Metric: 0 / 31  (0.0):  60%|██████████▏      | 30/50 [06:50<07:01, 21.06s/it]\u001b[A\u001b[A\n",
      "\n",
      "Average Metric: 0 / 31  (0.0):  62%|██████████▌      | 31/50 [06:50<09:26, 29.81s/it]\u001b[A\u001b[A\n",
      "\n",
      "Average Metric: 0 / 32  (0.0):  62%|██████████▌      | 31/50 [08:55<09:26, 29.81s/it]\u001b[A\u001b[A\n",
      "\n",
      "Average Metric: 0 / 32  (0.0):  64%|██████████▉      | 32/50 [08:55<12:50, 42.80s/it]\u001b[A\u001b[A\n",
      "\n",
      "Average Metric: 0 / 33  (0.0):  64%|██████████▉      | 32/50 [10:22<12:50, 42.80s/it]\u001b[A\u001b[A\n",
      "\n",
      "Average Metric: 0 / 33  (0.0):  66%|███████████▏     | 33/50 [10:22<14:09, 49.96s/it]\u001b[A\u001b[A\n",
      "\n",
      "Average Metric: 0 / 34  (0.0):  66%|███████████▏     | 33/50 [12:41<14:09, 49.96s/it]\u001b[A\u001b[A\n",
      "\n",
      "Average Metric: 0 / 34  (0.0):  68%|███████████▌     | 34/50 [12:41<17:49, 66.83s/it]\u001b[A\u001b[A\n",
      "\n",
      "Average Metric: 0 / 35  (0.0):  68%|███████████▌     | 34/50 [14:47<17:49, 66.83s/it]\u001b[A\u001b[A\n",
      "\n",
      "Average Metric: 0 / 35  (0.0):  70%|███████████▉     | 35/50 [14:47<19:53, 79.59s/it]\u001b[A\u001b[A\n",
      "\n",
      "Average Metric: 0 / 36  (0.0):  70%|███████████▉     | 35/50 [16:20<19:53, 79.59s/it]\u001b[A\u001b[A\n",
      "\n",
      "Average Metric: 0 / 36  (0.0):  72%|████████████▏    | 36/50 [16:20<19:15, 82.57s/it]\u001b[A\u001b[A\n",
      "\n",
      "Average Metric: 0 / 37  (0.0):  72%|████████████▏    | 36/50 [18:37<19:15, 82.57s/it]\u001b[A\u001b[A\n",
      "\n",
      "Average Metric: 0 / 37  (0.0):  74%|████████████▌    | 37/50 [18:37<20:52, 96.34s/it]\u001b[A\u001b[A\n",
      "\n",
      "Average Metric: 0 / 38  (0.0):  74%|████████████▌    | 37/50 [21:43<20:52, 96.34s/it]\u001b[A\u001b[A\n",
      "\n",
      "Average Metric: 0 / 38  (0.0):  76%|████████████▏   | 38/50 [21:43<23:58, 119.84s/it]\u001b[A\u001b[A\n",
      "\n",
      "Average Metric: 0 / 39  (0.0):  76%|████████████▏   | 38/50 [24:04<23:58, 119.84s/it]\u001b[A\u001b[A\n",
      "\n",
      "Average Metric: 0 / 39  (0.0):  78%|████████████▍   | 39/50 [24:04<23:02, 125.69s/it]\u001b[A\u001b[A\n",
      "\n",
      "Average Metric: 0 / 40  (0.0):  78%|████████████▍   | 39/50 [26:23<23:02, 125.69s/it]\u001b[A\u001b[A\n",
      "\n",
      "Average Metric: 0 / 40  (0.0):  80%|████████████▊   | 40/50 [26:23<21:33, 129.31s/it]\u001b[A\u001b[A\n",
      "\n",
      "Average Metric: 0 / 41  (0.0):  80%|████████████▊   | 40/50 [28:25<21:33, 129.31s/it]\u001b[A\u001b[A\n",
      "\n",
      "Average Metric: 0 / 41  (0.0):  82%|█████████████   | 41/50 [28:25<19:03, 127.09s/it]\u001b[A\u001b[A\n",
      "\n",
      "Average Metric: 0 / 42  (0.0):  82%|█████████████   | 41/50 [30:43<19:03, 127.09s/it]\u001b[A\u001b[A\n",
      "\n",
      "Average Metric: 0 / 42  (0.0):  84%|█████████████▍  | 42/50 [30:43<17:22, 130.30s/it]\u001b[A\u001b[A\n",
      "\n",
      "Average Metric: 0 / 43  (0.0):  84%|█████████████▍  | 42/50 [33:04<17:22, 130.30s/it]\u001b[A\u001b[A\n",
      "\n",
      "Average Metric: 0 / 43  (0.0):  86%|█████████████▊  | 43/50 [33:04<15:34, 133.46s/it]\u001b[A\u001b[A\n",
      "\n",
      "Average Metric: 0 / 44  (0.0):  86%|█████████████▊  | 43/50 [35:11<15:34, 133.46s/it]\u001b[A\u001b[A\n",
      "\n",
      "Average Metric: 0 / 44  (0.0):  88%|██████████████  | 44/50 [35:11<13:10, 131.73s/it]\u001b[A\u001b[A\n",
      "\n",
      "Average Metric: 0 / 45  (0.0):  88%|██████████████  | 44/50 [37:45<13:10, 131.73s/it]\u001b[A\u001b[A\n",
      "\n",
      "Average Metric: 0 / 45  (0.0):  90%|██████████████▍ | 45/50 [37:45<11:31, 138.23s/it]\u001b[A\u001b[A\n",
      "\n",
      "Average Metric: 0 / 46  (0.0):  90%|██████████████▍ | 45/50 [41:04<11:31, 138.23s/it]\u001b[A\u001b[A\n",
      "\n",
      "Average Metric: 0 / 46  (0.0):  92%|██████████████▋ | 46/50 [41:04<10:25, 156.35s/it]\u001b[A\u001b[A\n",
      "\n",
      "Average Metric: 0 / 47  (0.0):  92%|██████████████▋ | 46/50 [43:53<10:25, 156.35s/it]\u001b[A\u001b[A\n",
      "\n",
      "Average Metric: 0 / 47  (0.0):  94%|███████████████ | 47/50 [43:53<07:59, 160.00s/it]\u001b[A\u001b[A\n",
      "\n",
      "Average Metric: 0 / 48  (0.0):  94%|███████████████ | 47/50 [46:15<07:59, 160.00s/it]\u001b[A\u001b[A\n",
      "\n",
      "Average Metric: 0 / 48  (0.0):  96%|███████████████▎| 48/50 [46:15<05:09, 154.73s/it]\u001b[A\u001b[A\n",
      "\n",
      "Average Metric: 0 / 49  (0.0):  96%|███████████████▎| 48/50 [48:19<05:09, 154.73s/it]\u001b[A\u001b[A\n",
      "\n",
      "Average Metric: 0 / 49  (0.0):  98%|███████████████▋| 49/50 [48:19<02:25, 145.40s/it]\u001b[A\u001b[A\n",
      "\n",
      "Average Metric: 0 / 50  (0.0):  98%|███████████████▋| 49/50 [50:47<02:25, 145.40s/it]\u001b[A\u001b[A\n",
      "\n",
      "Average Metric: 0 / 50  (0.0): 100%|█████████████████| 50/50 [50:47<00:00, 60.95s/it]\u001b[A\u001b[A\n"
     ]
    },
    {
     "name": "stdout",
     "output_type": "stream",
     "text": [
      "Average Metric: 0 / 50  (0.0%)\n"
     ]
    },
    {
     "name": "stderr",
     "output_type": "stream",
     "text": [
      "/Users/matt_huang/Desktop/dev/bootcamp_ai/venv/lib/python3.12/site-packages/dspy/evaluate/evaluate.py:266: FutureWarning: Setting an item of incompatible dtype is deprecated and will raise in a future error of pandas. Value '['False' 'False' 'False' 'False' 'False']' has dtype incompatible with bool, please explicitly cast to a compatible dtype first.\n",
      "  df.loc[:, metric_name] = df[metric_name].apply(\n"
     ]
    },
    {
     "data": {
      "text/html": [
       "<style type=\"text/css\">\n",
       "#T_bd7e2 th {\n",
       "  text-align: left;\n",
       "}\n",
       "#T_bd7e2 td {\n",
       "  text-align: left;\n",
       "}\n",
       "#T_bd7e2_row0_col0, #T_bd7e2_row0_col1, #T_bd7e2_row0_col2, #T_bd7e2_row0_col3, #T_bd7e2_row0_col4, #T_bd7e2_row0_col5, #T_bd7e2_row1_col0, #T_bd7e2_row1_col1, #T_bd7e2_row1_col2, #T_bd7e2_row1_col3, #T_bd7e2_row1_col4, #T_bd7e2_row1_col5, #T_bd7e2_row2_col0, #T_bd7e2_row2_col1, #T_bd7e2_row2_col2, #T_bd7e2_row2_col3, #T_bd7e2_row2_col4, #T_bd7e2_row2_col5, #T_bd7e2_row3_col0, #T_bd7e2_row3_col1, #T_bd7e2_row3_col2, #T_bd7e2_row3_col3, #T_bd7e2_row3_col4, #T_bd7e2_row3_col5, #T_bd7e2_row4_col0, #T_bd7e2_row4_col1, #T_bd7e2_row4_col2, #T_bd7e2_row4_col3, #T_bd7e2_row4_col4, #T_bd7e2_row4_col5 {\n",
       "  text-align: left;\n",
       "  white-space: pre-wrap;\n",
       "  word-wrap: break-word;\n",
       "  max-width: 400px;\n",
       "}\n",
       "</style>\n",
       "<table id=\"T_bd7e2\">\n",
       "  <thead>\n",
       "    <tr>\n",
       "      <th class=\"blank level0\" >&nbsp;</th>\n",
       "      <th id=\"T_bd7e2_level0_col0\" class=\"col_heading level0 col0\" >question</th>\n",
       "      <th id=\"T_bd7e2_level0_col1\" class=\"col_heading level0 col1\" >example_answer</th>\n",
       "      <th id=\"T_bd7e2_level0_col2\" class=\"col_heading level0 col2\" >gold_titles</th>\n",
       "      <th id=\"T_bd7e2_level0_col3\" class=\"col_heading level0 col3\" >context</th>\n",
       "      <th id=\"T_bd7e2_level0_col4\" class=\"col_heading level0 col4\" >pred_answer</th>\n",
       "      <th id=\"T_bd7e2_level0_col5\" class=\"col_heading level0 col5\" >gold_passages_retrieved</th>\n",
       "    </tr>\n",
       "  </thead>\n",
       "  <tbody>\n",
       "    <tr>\n",
       "      <th id=\"T_bd7e2_level0_row0\" class=\"row_heading level0 row0\" >0</th>\n",
       "      <td id=\"T_bd7e2_row0_col0\" class=\"data row0 col0\" >Are both Cangzhou and Qionghai in the Hebei province of China?</td>\n",
       "      <td id=\"T_bd7e2_row0_col1\" class=\"data row0 col1\" >no</td>\n",
       "      <td id=\"T_bd7e2_row0_col2\" class=\"data row0 col2\" >{'Cangzhou', 'Qionghai'}</td>\n",
       "      <td id=\"T_bd7e2_row0_col3\" class=\"data row0 col3\" >['Complete (The Smiths album) | Complete is a box set released by British band The Smiths on 26 September 2011. Standard versions contain their four...</td>\n",
       "      <td id=\"T_bd7e2_row0_col4\" class=\"data row0 col4\" >No.</td>\n",
       "      <td id=\"T_bd7e2_row0_col5\" class=\"data row0 col5\" >False</td>\n",
       "    </tr>\n",
       "    <tr>\n",
       "      <th id=\"T_bd7e2_level0_row1\" class=\"row_heading level0 row1\" >1</th>\n",
       "      <td id=\"T_bd7e2_row1_col0\" class=\"data row1 col0\" >Who conducts the draft in which Marc-Andre Fleury was drafted to the Vegas Golden Knights for the 2017-18 season?</td>\n",
       "      <td id=\"T_bd7e2_row1_col1\" class=\"data row1 col1\" >National Hockey League</td>\n",
       "      <td id=\"T_bd7e2_row1_col2\" class=\"data row1 col2\" >{'2017 NHL Expansion Draft', '2017–18 Pittsburgh Penguins season'}</td>\n",
       "      <td id=\"T_bd7e2_row1_col3\" class=\"data row1 col3\" >['Complete (The Smiths album) | Complete is a box set released by British band The Smiths on 26 September 2011. Standard versions contain their four...</td>\n",
       "      <td id=\"T_bd7e2_row1_col4\" class=\"data row1 col4\" >George McPhee</td>\n",
       "      <td id=\"T_bd7e2_row1_col5\" class=\"data row1 col5\" >False</td>\n",
       "    </tr>\n",
       "    <tr>\n",
       "      <th id=\"T_bd7e2_level0_row2\" class=\"row_heading level0 row2\" >2</th>\n",
       "      <td id=\"T_bd7e2_row2_col0\" class=\"data row2 col0\" >The Wings entered a new era, following the retirement of which Canadian retired professional ice hockey player and current general manager of the Tampa Bay...</td>\n",
       "      <td id=\"T_bd7e2_row2_col1\" class=\"data row2 col1\" >Steve Yzerman</td>\n",
       "      <td id=\"T_bd7e2_row2_col2\" class=\"data row2 col2\" >{'Steve Yzerman', '2006–07 Detroit Red Wings season'}</td>\n",
       "      <td id=\"T_bd7e2_row2_col3\" class=\"data row2 col3\" >[\"Here's the Answer | Here's the Answer is the second studio album by American country artist Skeeter Davis. The album was released in January 1961...</td>\n",
       "      <td id=\"T_bd7e2_row2_col4\" class=\"data row2 col4\" >Mark Messier</td>\n",
       "      <td id=\"T_bd7e2_row2_col5\" class=\"data row2 col5\" >False</td>\n",
       "    </tr>\n",
       "    <tr>\n",
       "      <th id=\"T_bd7e2_level0_row3\" class=\"row_heading level0 row3\" >3</th>\n",
       "      <td id=\"T_bd7e2_row3_col0\" class=\"data row3 col0\" >What river is near the Crichton Collegiate Church?</td>\n",
       "      <td id=\"T_bd7e2_row3_col1\" class=\"data row3 col1\" >the River Tyne</td>\n",
       "      <td id=\"T_bd7e2_row3_col2\" class=\"data row3 col2\" >{'Crichton Collegiate Church', 'Crichton Castle'}</td>\n",
       "      <td id=\"T_bd7e2_row3_col3\" class=\"data row3 col3\" >['Complete (The Smiths album) | Complete is a box set released by British band The Smiths on 26 September 2011. Standard versions contain their four...</td>\n",
       "      <td id=\"T_bd7e2_row3_col4\" class=\"data row3 col4\" >Solway.</td>\n",
       "      <td id=\"T_bd7e2_row3_col5\" class=\"data row3 col5\" >False</td>\n",
       "    </tr>\n",
       "    <tr>\n",
       "      <th id=\"T_bd7e2_level0_row4\" class=\"row_heading level0 row4\" >4</th>\n",
       "      <td id=\"T_bd7e2_row4_col0\" class=\"data row4 col0\" >In the 10th Century A.D. Ealhswith had a son called Æthelweard by which English king?</td>\n",
       "      <td id=\"T_bd7e2_row4_col1\" class=\"data row4 col1\" >King Alfred the Great</td>\n",
       "      <td id=\"T_bd7e2_row4_col2\" class=\"data row4 col2\" >{'Æthelweard (son of Alfred)', 'Ealhswith'}</td>\n",
       "      <td id=\"T_bd7e2_row4_col3\" class=\"data row4 col3\" >[\"Here's the Answer | Here's the Answer is the second studio album by American country artist Skeeter Davis. The album was released in January 1961...</td>\n",
       "      <td id=\"T_bd7e2_row4_col4\" class=\"data row4 col4\" >Æthelred.</td>\n",
       "      <td id=\"T_bd7e2_row4_col5\" class=\"data row4 col5\" >False</td>\n",
       "    </tr>\n",
       "  </tbody>\n",
       "</table>\n"
      ],
      "text/plain": [
       "<pandas.io.formats.style.Styler at 0x12cfa1820>"
      ]
     },
     "metadata": {},
     "output_type": "display_data"
    },
    {
     "data": {
      "text/html": [
       "\n",
       "                <div style='\n",
       "                    text-align: center;\n",
       "                    font-size: 16px;\n",
       "                    font-weight: bold;\n",
       "                    color: #555;\n",
       "                    margin: 10px 0;'>\n",
       "                    ... 45 more rows not displayed ...\n",
       "                </div>\n",
       "                "
      ],
      "text/plain": [
       "<IPython.core.display.HTML object>"
      ]
     },
     "metadata": {},
     "output_type": "display_data"
    },
    {
     "name": "stderr",
     "output_type": "stream",
     "text": [
      "\n",
      "\n",
      "  0%|                                                         | 0/50 [00:00<?, ?it/s]\u001b[A\u001b[A\n",
      "\n",
      "Average Metric: 0 / 1  (0.0):   0%|                           | 0/50 [02:11<?, ?it/s]\u001b[A\u001b[A\n",
      "\n",
      "Average Metric: 0 / 1  (0.0):   2%|▎               | 1/50 [02:11<1:47:17, 131.38s/it]\u001b[A\u001b[A\n",
      "\n",
      "Average Metric: 0 / 2  (0.0):   2%|▎               | 1/50 [02:44<1:47:17, 131.38s/it]\u001b[A\u001b[A\n",
      "\n",
      "Average Metric: 0 / 2  (0.0):   4%|▊                  | 2/50 [02:44<58:44, 73.42s/it]\u001b[A\u001b[A\n",
      "\n",
      "Average Metric: 0 / 3  (0.0):   4%|▊                  | 2/50 [03:48<58:44, 73.42s/it]\u001b[A\u001b[A\n",
      "\n",
      "Average Metric: 0 / 3  (0.0):   6%|█▏                 | 3/50 [03:48<54:20, 69.36s/it]\u001b[A\u001b[A\n",
      "\n",
      "Average Metric: 0 / 4  (0.0):   6%|█▏                 | 3/50 [05:00<54:20, 69.36s/it]\u001b[A\u001b[A\n",
      "\n",
      "Average Metric: 0 / 4  (0.0):   8%|█▌                 | 4/50 [05:00<53:47, 70.16s/it]\u001b[A\u001b[A\n",
      "\n",
      "Average Metric: 0 / 5  (0.0):   8%|█▌                 | 4/50 [06:06<53:47, 70.16s/it]\u001b[A\u001b[A\n",
      "\n",
      "Average Metric: 0 / 5  (0.0):  10%|█▉                 | 5/50 [06:06<51:42, 68.95s/it]\u001b[A\u001b[A\n",
      "\n",
      "Average Metric: 0 / 6  (0.0):  10%|█▉                 | 5/50 [06:44<51:42, 68.95s/it]\u001b[A\u001b[A\n",
      "\n",
      "Average Metric: 0 / 6  (0.0):  12%|██▎                | 6/50 [06:44<42:36, 58.11s/it]\u001b[A\u001b[A\n",
      "\n",
      "Average Metric: 0 / 7  (0.0):  12%|██▎                | 6/50 [07:51<42:36, 58.11s/it]\u001b[A\u001b[A\n",
      "\n",
      "Average Metric: 0 / 7  (0.0):  14%|██▋                | 7/50 [07:51<43:50, 61.18s/it]\u001b[A\u001b[A\n",
      "\n",
      "Average Metric: 0 / 8  (0.0):  14%|██▋                | 7/50 [09:34<43:50, 61.18s/it]\u001b[A\u001b[A\n",
      "\n",
      "Average Metric: 0 / 8  (0.0):  16%|███                | 8/50 [09:34<52:03, 74.36s/it]\u001b[A\u001b[A\n",
      "\n",
      "Average Metric: 0 / 9  (0.0):  16%|███                | 8/50 [09:38<52:03, 74.36s/it]\u001b[A\u001b[A\n",
      "\n",
      "Average Metric: 0 / 9  (0.0):  18%|███▍               | 9/50 [09:38<35:55, 52.57s/it]\u001b[A\u001b[A\n",
      "\n",
      "Average Metric: 0 / 10  (0.0):  18%|███▏              | 9/50 [10:28<35:55, 52.57s/it]\u001b[A\u001b[A\n",
      "\n",
      "Average Metric: 0 / 10  (0.0):  20%|███▍             | 10/50 [10:28<34:31, 51.79s/it]\u001b[A\u001b[A\n",
      "\n",
      "Average Metric: 0 / 11  (0.0):  20%|███▍             | 10/50 [11:45<34:31, 51.79s/it]\u001b[A\u001b[A\n",
      "\n",
      "Average Metric: 0 / 11  (0.0):  22%|███▋             | 11/50 [11:45<38:34, 59.35s/it]\u001b[A\u001b[A\n",
      "\n",
      "Average Metric: 0 / 12  (0.0):  22%|███▋             | 11/50 [12:20<38:34, 59.35s/it]\u001b[A\u001b[A\n",
      "\n",
      "Average Metric: 0 / 12  (0.0):  24%|████             | 12/50 [12:20<32:51, 51.87s/it]\u001b[A\u001b[A\n",
      "\n",
      "Average Metric: 0 / 13  (0.0):  24%|████             | 12/50 [13:51<32:51, 51.87s/it]\u001b[A\u001b[A\n",
      "\n",
      "Average Metric: 0 / 13  (0.0):  26%|████▍            | 13/50 [13:51<39:22, 63.84s/it]\u001b[A\u001b[A\n",
      "\n",
      "Average Metric: 0 / 14  (0.0):  26%|████▍            | 13/50 [14:23<39:22, 63.84s/it]\u001b[A\u001b[A\n",
      "\n",
      "Average Metric: 0 / 14  (0.0):  28%|████▊            | 14/50 [14:23<32:27, 54.09s/it]\u001b[A\u001b[A\n",
      "\n",
      "Average Metric: 0 / 15  (0.0):  28%|████▊            | 14/50 [15:32<32:27, 54.09s/it]\u001b[A\u001b[A\n",
      "\n",
      "Average Metric: 0 / 15  (0.0):  30%|█████            | 15/50 [15:32<34:20, 58.87s/it]\u001b[A\u001b[A\n",
      "\n",
      "Average Metric: 0 / 16  (0.0):  30%|█████            | 15/50 [17:06<34:20, 58.87s/it]\u001b[A\u001b[A\n",
      "\n",
      "Average Metric: 0 / 16  (0.0):  32%|█████▍           | 16/50 [17:06<39:11, 69.17s/it]\u001b[A\u001b[A\n",
      "\n",
      "Average Metric: 0 / 17  (0.0):  32%|█████▍           | 16/50 [18:37<39:11, 69.17s/it]\u001b[A\u001b[A\n",
      "\n",
      "Average Metric: 0 / 17  (0.0):  34%|█████▊           | 17/50 [18:37<41:45, 75.91s/it]\u001b[A\u001b[A\n",
      "\n",
      "Average Metric: 0 / 18  (0.0):  34%|█████▊           | 17/50 [19:23<41:45, 75.91s/it]\u001b[A\u001b[A\n",
      "\n",
      "Average Metric: 0 / 18  (0.0):  36%|██████           | 18/50 [19:23<35:42, 66.96s/it]\u001b[A\u001b[A\n",
      "\n",
      "Average Metric: 0 / 19  (0.0):  36%|██████           | 18/50 [20:40<35:42, 66.96s/it]\u001b[A\u001b[A\n",
      "\n",
      "Average Metric: 0 / 19  (0.0):  38%|██████▍          | 19/50 [20:40<36:06, 69.89s/it]\u001b[A\u001b[A\n",
      "\n",
      "Average Metric: 0 / 20  (0.0):  38%|██████▍          | 19/50 [21:08<36:06, 69.89s/it]\u001b[A\u001b[A\n",
      "\n",
      "Average Metric: 0 / 20  (0.0):  40%|██████▊          | 20/50 [21:08<28:43, 57.47s/it]\u001b[A\u001b[A\n",
      "\n",
      "Average Metric: 0 / 21  (0.0):  40%|██████▊          | 20/50 [22:33<28:43, 57.47s/it]\u001b[A\u001b[A\n",
      "\n",
      "Average Metric: 0 / 21  (0.0):  42%|███████▏         | 21/50 [22:33<31:43, 65.62s/it]\u001b[A\u001b[A\n",
      "\n",
      "Average Metric: 0 / 22  (0.0):  42%|███████▏         | 21/50 [23:00<31:43, 65.62s/it]\u001b[A\u001b[A\n",
      "\n",
      "Average Metric: 0 / 22  (0.0):  44%|███████▍         | 22/50 [23:00<25:14, 54.08s/it]\u001b[A\u001b[A\n",
      "\n",
      "Average Metric: 0 / 23  (0.0):  44%|███████▍         | 22/50 [23:09<25:14, 54.08s/it]\u001b[A\u001b[A\n",
      "\n",
      "Average Metric: 0 / 23  (0.0):  46%|███████▊         | 23/50 [23:09<18:09, 40.37s/it]\u001b[A\u001b[A\n",
      "\n",
      "Average Metric: 0 / 24  (0.0):  46%|███████▊         | 23/50 [24:04<18:09, 40.37s/it]\u001b[A\u001b[A\n",
      "\n",
      "Average Metric: 0 / 24  (0.0):  48%|████████▏        | 24/50 [24:04<19:26, 44.86s/it]\u001b[A\u001b[A\n",
      "\n",
      "Average Metric: 0 / 25  (0.0):  48%|████████▏        | 24/50 [24:53<19:26, 44.86s/it]\u001b[A\u001b[A\n",
      "\n",
      "Average Metric: 0 / 25  (0.0):  50%|████████▌        | 25/50 [24:53<19:09, 45.99s/it]\u001b[A\u001b[A\n",
      "\n",
      "Average Metric: 0 / 26  (0.0):  50%|████████▌        | 25/50 [26:08<19:09, 45.99s/it]\u001b[A\u001b[A\n",
      "\n",
      "Average Metric: 0 / 26  (0.0):  52%|████████▊        | 26/50 [26:08<21:52, 54.70s/it]\u001b[A\u001b[A\n",
      "\n",
      "Average Metric: 0 / 27  (0.0):  52%|████████▊        | 26/50 [26:38<21:52, 54.70s/it]\u001b[A\u001b[A\n",
      "\n",
      "Average Metric: 0 / 27  (0.0):  54%|█████████▏       | 27/50 [26:38<18:11, 47.46s/it]\u001b[A\u001b[A\n",
      "\n",
      "Average Metric: 0 / 28  (0.0):  54%|█████████▏       | 27/50 [26:53<18:11, 47.46s/it]\u001b[A\u001b[A\n",
      "\n",
      "Average Metric: 0 / 28  (0.0):  56%|█████████▌       | 28/50 [26:53<13:47, 37.60s/it]\u001b[A\u001b[A\n",
      "\n",
      "Average Metric: 0 / 29  (0.0):  56%|█████████▌       | 28/50 [27:59<13:47, 37.60s/it]\u001b[A\u001b[A\n",
      "\n",
      "Average Metric: 0 / 29  (0.0):  58%|█████████▊       | 29/50 [27:59<16:11, 46.24s/it]\u001b[A\u001b[A\n",
      "\n",
      "Average Metric: 0 / 30  (0.0):  58%|█████████▊       | 29/50 [28:37<16:11, 46.24s/it]\u001b[A\u001b[A\n",
      "\n",
      "Average Metric: 0 / 30  (0.0):  60%|██████████▏      | 30/50 [28:37<14:36, 43.85s/it]\u001b[A\u001b[A\n",
      "\n",
      "Average Metric: 0 / 31  (0.0):  60%|██████████▏      | 30/50 [29:41<14:36, 43.85s/it]\u001b[A\u001b[A\n",
      "\n",
      "Average Metric: 0 / 31  (0.0):  62%|██████████▌      | 31/50 [29:41<15:43, 49.66s/it]\u001b[A\u001b[A\n",
      "\n",
      "Average Metric: 0 / 32  (0.0):  62%|██████████▌      | 31/50 [30:59<15:43, 49.66s/it]\u001b[A\u001b[A\n",
      "\n",
      "Average Metric: 0 / 32  (0.0):  64%|██████████▉      | 32/50 [30:59<17:28, 58.27s/it]\u001b[A\u001b[A\n",
      "\n",
      "Average Metric: 0 / 33  (0.0):  64%|██████████▉      | 32/50 [31:45<17:28, 58.27s/it]\u001b[A\u001b[A\n",
      "\n",
      "Average Metric: 0 / 33  (0.0):  66%|███████████▏     | 33/50 [31:45<15:28, 54.62s/it]\u001b[A\u001b[A\n",
      "\n",
      "Average Metric: 0 / 34  (0.0):  66%|███████████▏     | 33/50 [32:52<15:28, 54.62s/it]\u001b[A\u001b[A\n",
      "\n",
      "Average Metric: 0 / 34  (0.0):  68%|███████████▌     | 34/50 [32:52<15:34, 58.41s/it]\u001b[A\u001b[A\n",
      "\n",
      "Average Metric: 0 / 35  (0.0):  68%|███████████▌     | 34/50 [33:46<15:34, 58.41s/it]\u001b[A\u001b[A\n",
      "\n",
      "Average Metric: 0 / 35  (0.0):  70%|███████████▉     | 35/50 [33:46<14:13, 56.91s/it]\u001b[A\u001b[A\n",
      "\n",
      "Average Metric: 0 / 36  (0.0):  70%|███████████▉     | 35/50 [34:13<14:13, 56.91s/it]\u001b[A\u001b[A\n",
      "\n",
      "Average Metric: 0 / 36  (0.0):  72%|████████████▏    | 36/50 [34:13<11:12, 48.03s/it]\u001b[A\u001b[A\n",
      "\n",
      "Average Metric: 0 / 37  (0.0):  72%|████████████▏    | 36/50 [35:14<11:12, 48.03s/it]\u001b[A\u001b[A\n",
      "\n",
      "Average Metric: 0 / 37  (0.0):  74%|████████████▌    | 37/50 [35:14<11:15, 51.93s/it]\u001b[A\u001b[A\n",
      "\n",
      "Average Metric: 0 / 38  (0.0):  74%|████████████▌    | 37/50 [36:22<11:15, 51.93s/it]\u001b[A\u001b[A\n",
      "\n",
      "Average Metric: 0 / 38  (0.0):  76%|████████████▉    | 38/50 [36:22<11:20, 56.72s/it]\u001b[A\u001b[A\n",
      "\n",
      "Average Metric: 0 / 39  (0.0):  76%|████████████▉    | 38/50 [37:27<11:20, 56.72s/it]\u001b[A\u001b[A\n",
      "\n",
      "Average Metric: 0 / 39  (0.0):  78%|█████████████▎   | 39/50 [37:27<10:52, 59.29s/it]\u001b[A\u001b[A\n",
      "\n",
      "Average Metric: 0 / 40  (0.0):  78%|█████████████▎   | 39/50 [37:58<10:52, 59.29s/it]\u001b[A\u001b[A\n",
      "\n",
      "Average Metric: 0 / 40  (0.0):  80%|█████████████▌   | 40/50 [37:58<08:28, 50.83s/it]\u001b[A\u001b[A\n",
      "\n",
      "Average Metric: 0 / 41  (0.0):  80%|█████████████▌   | 40/50 [39:01<08:28, 50.83s/it]\u001b[A\u001b[A\n",
      "\n",
      "Average Metric: 0 / 41  (0.0):  82%|█████████████▉   | 41/50 [39:01<08:10, 54.48s/it]\u001b[A\u001b[A\n",
      "\n",
      "Average Metric: 0 / 42  (0.0):  82%|█████████████▉   | 41/50 [39:31<08:10, 54.48s/it]\u001b[A\u001b[A\n",
      "\n",
      "Average Metric: 0 / 42  (0.0):  84%|██████████████▎  | 42/50 [39:31<06:16, 47.06s/it]\u001b[A\u001b[A\n",
      "\n",
      "Average Metric: 0 / 43  (0.0):  84%|██████████████▎  | 42/50 [40:00<06:16, 47.06s/it]\u001b[A\u001b[A\n",
      "\n",
      "Average Metric: 0 / 43  (0.0):  86%|██████████████▌  | 43/50 [40:00<04:51, 41.61s/it]\u001b[A\u001b[A\n",
      "\n",
      "Average Metric: 0 / 44  (0.0):  86%|██████████████▌  | 43/50 [40:30<04:51, 41.61s/it]\u001b[A\u001b[A\n",
      "\n",
      "Average Metric: 0 / 44  (0.0):  88%|██████████████▉  | 44/50 [40:30<03:48, 38.08s/it]\u001b[A\u001b[A\n",
      "\n",
      "Average Metric: 0 / 45  (0.0):  88%|██████████████▉  | 44/50 [40:37<03:48, 38.08s/it]\u001b[A\u001b[A\n",
      "\n",
      "Average Metric: 0 / 45  (0.0):  90%|███████████████▎ | 45/50 [40:37<02:23, 28.68s/it]\u001b[A\u001b[A\n",
      "\n",
      "Average Metric: 0 / 46  (0.0):  90%|███████████████▎ | 45/50 [41:38<02:23, 28.68s/it]\u001b[A\u001b[A\n",
      "\n",
      "Average Metric: 0 / 46  (0.0):  92%|███████████████▋ | 46/50 [41:38<02:34, 38.61s/it]\u001b[A\u001b[A\n",
      "\n",
      "Average Metric: 0 / 47  (0.0):  92%|███████████████▋ | 46/50 [42:33<02:34, 38.61s/it]\u001b[A\u001b[A\n",
      "\n",
      "Average Metric: 0 / 47  (0.0):  94%|███████████████▉ | 47/50 [42:33<02:09, 43.27s/it]\u001b[A\u001b[A\n",
      "\n",
      "Average Metric: 0 / 48  (0.0):  94%|███████████████▉ | 47/50 [43:17<02:09, 43.27s/it]\u001b[A\u001b[A\n",
      "\n",
      "Average Metric: 0 / 48  (0.0):  96%|████████████████▎| 48/50 [43:17<01:26, 43.49s/it]\u001b[A\u001b[A\n",
      "\n",
      "Average Metric: 0 / 49  (0.0):  96%|████████████████▎| 48/50 [44:36<01:26, 43.49s/it]\u001b[A\u001b[A\n",
      "\n",
      "Average Metric: 0 / 49  (0.0):  98%|████████████████▋| 49/50 [44:36<00:54, 54.39s/it]\u001b[A\u001b[A\n",
      "\n",
      "Average Metric: 0 / 50  (0.0):  98%|████████████████▋| 49/50 [45:49<00:54, 54.39s/it]\u001b[A\u001b[A\n",
      "\n",
      "Average Metric: 0 / 50  (0.0): 100%|█████████████████| 50/50 [45:49<00:00, 54.99s/it]\u001b[A\u001b[A\n",
      "/Users/matt_huang/Desktop/dev/bootcamp_ai/venv/lib/python3.12/site-packages/dspy/evaluate/evaluate.py:266: FutureWarning: Setting an item of incompatible dtype is deprecated and will raise in a future error of pandas. Value '['False' 'False' 'False' 'False' 'False']' has dtype incompatible with bool, please explicitly cast to a compatible dtype first.\n",
      "  df.loc[:, metric_name] = df[metric_name].apply(\n"
     ]
    },
    {
     "name": "stdout",
     "output_type": "stream",
     "text": [
      "Average Metric: 0 / 50  (0.0%)\n"
     ]
    },
    {
     "data": {
      "text/html": [
       "<style type=\"text/css\">\n",
       "#T_bb7e8 th {\n",
       "  text-align: left;\n",
       "}\n",
       "#T_bb7e8 td {\n",
       "  text-align: left;\n",
       "}\n",
       "#T_bb7e8_row0_col0, #T_bb7e8_row0_col1, #T_bb7e8_row0_col2, #T_bb7e8_row0_col3, #T_bb7e8_row0_col4, #T_bb7e8_row0_col5, #T_bb7e8_row1_col0, #T_bb7e8_row1_col1, #T_bb7e8_row1_col2, #T_bb7e8_row1_col3, #T_bb7e8_row1_col4, #T_bb7e8_row1_col5, #T_bb7e8_row2_col0, #T_bb7e8_row2_col1, #T_bb7e8_row2_col2, #T_bb7e8_row2_col3, #T_bb7e8_row2_col4, #T_bb7e8_row2_col5, #T_bb7e8_row3_col0, #T_bb7e8_row3_col1, #T_bb7e8_row3_col2, #T_bb7e8_row3_col3, #T_bb7e8_row3_col4, #T_bb7e8_row3_col5, #T_bb7e8_row4_col0, #T_bb7e8_row4_col1, #T_bb7e8_row4_col2, #T_bb7e8_row4_col3, #T_bb7e8_row4_col4, #T_bb7e8_row4_col5 {\n",
       "  text-align: left;\n",
       "  white-space: pre-wrap;\n",
       "  word-wrap: break-word;\n",
       "  max-width: 400px;\n",
       "}\n",
       "</style>\n",
       "<table id=\"T_bb7e8\">\n",
       "  <thead>\n",
       "    <tr>\n",
       "      <th class=\"blank level0\" >&nbsp;</th>\n",
       "      <th id=\"T_bb7e8_level0_col0\" class=\"col_heading level0 col0\" >question</th>\n",
       "      <th id=\"T_bb7e8_level0_col1\" class=\"col_heading level0 col1\" >example_answer</th>\n",
       "      <th id=\"T_bb7e8_level0_col2\" class=\"col_heading level0 col2\" >gold_titles</th>\n",
       "      <th id=\"T_bb7e8_level0_col3\" class=\"col_heading level0 col3\" >context</th>\n",
       "      <th id=\"T_bb7e8_level0_col4\" class=\"col_heading level0 col4\" >pred_answer</th>\n",
       "      <th id=\"T_bb7e8_level0_col5\" class=\"col_heading level0 col5\" >gold_passages_retrieved</th>\n",
       "    </tr>\n",
       "  </thead>\n",
       "  <tbody>\n",
       "    <tr>\n",
       "      <th id=\"T_bb7e8_level0_row0\" class=\"row_heading level0 row0\" >0</th>\n",
       "      <td id=\"T_bb7e8_row0_col0\" class=\"data row0 col0\" >Are both Cangzhou and Qionghai in the Hebei province of China?</td>\n",
       "      <td id=\"T_bb7e8_row0_col1\" class=\"data row0 col1\" >no</td>\n",
       "      <td id=\"T_bb7e8_row0_col2\" class=\"data row0 col2\" >{'Cangzhou', 'Qionghai'}</td>\n",
       "      <td id=\"T_bb7e8_row0_col3\" class=\"data row0 col3\" >['Complete (The Smiths album) | Complete is a box set released by British band The Smiths on 26 September 2011. Standard versions contain their four...</td>\n",
       "      <td id=\"T_bb7e8_row0_col4\" class=\"data row0 col4\" >Context</td>\n",
       "      <td id=\"T_bb7e8_row0_col5\" class=\"data row0 col5\" >False</td>\n",
       "    </tr>\n",
       "    <tr>\n",
       "      <th id=\"T_bb7e8_level0_row1\" class=\"row_heading level0 row1\" >1</th>\n",
       "      <td id=\"T_bb7e8_row1_col0\" class=\"data row1 col0\" >Who conducts the draft in which Marc-Andre Fleury was drafted to the Vegas Golden Knights for the 2017-18 season?</td>\n",
       "      <td id=\"T_bb7e8_row1_col1\" class=\"data row1 col1\" >National Hockey League</td>\n",
       "      <td id=\"T_bb7e8_row1_col2\" class=\"data row1 col2\" >{'2017 NHL Expansion Draft', '2017–18 Pittsburgh Penguins season'}</td>\n",
       "      <td id=\"T_bb7e8_row1_col3\" class=\"data row1 col3\" >['Complete (The Smiths album) | Complete is a box set released by British band The Smiths on 26 September 2011. Standard versions contain their four...</td>\n",
       "      <td id=\"T_bb7e8_row1_col4\" class=\"data row1 col4\" >Context</td>\n",
       "      <td id=\"T_bb7e8_row1_col5\" class=\"data row1 col5\" >False</td>\n",
       "    </tr>\n",
       "    <tr>\n",
       "      <th id=\"T_bb7e8_level0_row2\" class=\"row_heading level0 row2\" >2</th>\n",
       "      <td id=\"T_bb7e8_row2_col0\" class=\"data row2 col0\" >The Wings entered a new era, following the retirement of which Canadian retired professional ice hockey player and current general manager of the Tampa Bay...</td>\n",
       "      <td id=\"T_bb7e8_row2_col1\" class=\"data row2 col1\" >Steve Yzerman</td>\n",
       "      <td id=\"T_bb7e8_row2_col2\" class=\"data row2 col2\" >{'Steve Yzerman', '2006–07 Detroit Red Wings season'}</td>\n",
       "      <td id=\"T_bb7e8_row2_col3\" class=\"data row2 col3\" >[\"Here's the Answer | Here's the Answer is the second studio album by American country artist Skeeter Davis. The album was released in January 1961...</td>\n",
       "      <td id=\"T_bb7e8_row2_col4\" class=\"data row2 col4\" >Context</td>\n",
       "      <td id=\"T_bb7e8_row2_col5\" class=\"data row2 col5\" >False</td>\n",
       "    </tr>\n",
       "    <tr>\n",
       "      <th id=\"T_bb7e8_level0_row3\" class=\"row_heading level0 row3\" >3</th>\n",
       "      <td id=\"T_bb7e8_row3_col0\" class=\"data row3 col0\" >What river is near the Crichton Collegiate Church?</td>\n",
       "      <td id=\"T_bb7e8_row3_col1\" class=\"data row3 col1\" >the River Tyne</td>\n",
       "      <td id=\"T_bb7e8_row3_col2\" class=\"data row3 col2\" >{'Crichton Collegiate Church', 'Crichton Castle'}</td>\n",
       "      <td id=\"T_bb7e8_row3_col3\" class=\"data row3 col3\" >['Complete (The Smiths album) | Complete is a box set released by British band The Smiths on 26 September 2011. Standard versions contain their four...</td>\n",
       "      <td id=\"T_bb7e8_row3_col4\" class=\"data row3 col4\" >Context: The Crichton Collegiate Church is a 16th-century church located in Edinburgh, Scotland</td>\n",
       "      <td id=\"T_bb7e8_row3_col5\" class=\"data row3 col5\" >False</td>\n",
       "    </tr>\n",
       "    <tr>\n",
       "      <th id=\"T_bb7e8_level0_row4\" class=\"row_heading level0 row4\" >4</th>\n",
       "      <td id=\"T_bb7e8_row4_col0\" class=\"data row4 col0\" >In the 10th Century A.D. Ealhswith had a son called Æthelweard by which English king?</td>\n",
       "      <td id=\"T_bb7e8_row4_col1\" class=\"data row4 col1\" >King Alfred the Great</td>\n",
       "      <td id=\"T_bb7e8_row4_col2\" class=\"data row4 col2\" >{'Æthelweard (son of Alfred)', 'Ealhswith'}</td>\n",
       "      <td id=\"T_bb7e8_row4_col3\" class=\"data row4 col3\" >[\"Here's the Answer | Here's the Answer is the second studio album by American country artist Skeeter Davis. The album was released in January 1961...</td>\n",
       "      <td id=\"T_bb7e8_row4_col4\" class=\"data row4 col4\" >Context</td>\n",
       "      <td id=\"T_bb7e8_row4_col5\" class=\"data row4 col5\" >False</td>\n",
       "    </tr>\n",
       "  </tbody>\n",
       "</table>\n"
      ],
      "text/plain": [
       "<pandas.io.formats.style.Styler at 0x12d6f9640>"
      ]
     },
     "metadata": {},
     "output_type": "display_data"
    },
    {
     "data": {
      "text/html": [
       "\n",
       "                <div style='\n",
       "                    text-align: center;\n",
       "                    font-size: 16px;\n",
       "                    font-weight: bold;\n",
       "                    color: #555;\n",
       "                    margin: 10px 0;'>\n",
       "                    ... 45 more rows not displayed ...\n",
       "                </div>\n",
       "                "
      ],
      "text/plain": [
       "<IPython.core.display.HTML object>"
      ]
     },
     "metadata": {},
     "output_type": "display_data"
    },
    {
     "data": {
      "text/html": [
       "<pre style=\"white-space:pre;overflow-x:auto;line-height:normal;font-family:Menlo,'DejaVu Sans Mono',consolas,'Courier New',monospace\">## Retrieval Score for RAG: <span style=\"color: #008080; text-decoration-color: #008080; font-weight: bold\">26.0</span>\n",
       "</pre>\n"
      ],
      "text/plain": [
       "## Retrieval Score for RAG: \u001b[1;36m26.0\u001b[0m\n"
      ]
     },
     "metadata": {},
     "output_type": "display_data"
    },
    {
     "data": {
      "text/html": [
       "<pre style=\"white-space:pre;overflow-x:auto;line-height:normal;font-family:Menlo,'DejaVu Sans Mono',consolas,'Courier New',monospace\">## Retrieval Score for uncompiled Baleen: <span style=\"color: #008080; text-decoration-color: #008080; font-weight: bold\">0.0</span>\n",
       "</pre>\n"
      ],
      "text/plain": [
       "## Retrieval Score for uncompiled Baleen: \u001b[1;36m0.0\u001b[0m\n"
      ]
     },
     "metadata": {},
     "output_type": "display_data"
    },
    {
     "data": {
      "text/html": [
       "<pre style=\"white-space:pre;overflow-x:auto;line-height:normal;font-family:Menlo,'DejaVu Sans Mono',consolas,'Courier New',monospace\">## Retrieval Score for compiled Baleen: <span style=\"color: #008080; text-decoration-color: #008080; font-weight: bold\">0.0</span>\n",
       "</pre>\n"
      ],
      "text/plain": [
       "## Retrieval Score for compiled Baleen: \u001b[1;36m0.0\u001b[0m\n"
      ]
     },
     "metadata": {},
     "output_type": "display_data"
    },
    {
     "data": {
      "text/plain": [
       "Prediction(\n",
       "    context=['Complete (The Smiths album) | Complete is a box set released by British band The Smiths on 26 September 2011. Standard versions contain their four studio albums (\"The Smiths\", \"Meat Is Murder\", \"The Queen Is Dead\" and \"Strangeways, Here We Come\"), a live album (\"Rank\") and three compilations (\"Hatful of Hollow\", \"The World Won\\'t Listen\" and \"Louder Than Bombs\") over 8 CDs or 8 LPs. A deluxe version contains the albums on both CD and LP formats as well as 25 7\" vinyl singles and a DVD.', \"The Complete Works (Queen album) | The Complete Works is a boxed set issued by the rock band Queen in 1985. It contained all of the band's original studio albums, live album and non-album tracks to that point. It was available in vinyl and cassette formats.\", 'The Complete History (album) | The Complete History is a compilation album released by 2 Unlimited on February 9, 2004 through ZYX Music label The record was released in two formats: as a single CD edition, and as a CD/DVD packaged in a DVD case. The package was released in Germany, and then in Brazil in 2005.', 'Confusion in Canadian trademark law | Under Canadian trade-mark law, “confusion” is where a trade-mark is similar enough to another trade-mark to cause consumers to equate them. Likelihood of confusion plays a central role in trade-mark registration, infringement and passing-off. Whether a trade-mark or trade-name is confusing is a question of fact. The role of confusion in trade-mark law is analogous to the role of substantial infringement in patent law.', 'Initial Interest Confusion | Initial Interest Confusion is a legal doctrine under trademark law that permits a finding of infringement when there is temporary confusion that is dispelled before the purchase is made. Generally, trademark infringement is based on the likelihood of confusion for a consumer in the marketplace. This likelihood is typically determined using a multi-factor test that includes factors like the strength of the mark and evidence of any actual confusion. However, trademark infringement that relies on Initial Interest Confusion does not require a likelihood of confusion at the time of sale; the mark must only capture the consumer’s initial attention.', 'ConFusion (convention) | ConFusion is an annual science fiction convention organized by the Stilyagi Air Corps and its parent organization, the Ann Arbor Science Fiction Association. Commonly, it is held the third weekend of January. It is the oldest science fiction convention in Michigan, a regional, general SF con similar to Windycon and Lunacon. The programming consists of panels on science fiction and fantasy literature, media, science, fandom, art, comics, music, costuming, etc. with discussions by authors, scientists, fans, and artists. There is a large music track, board and roleplaying games, KidFusion — a track of programming specifically for kids — and a masquerade or costume contest.'],\n",
       "    answer=\"I'm ready to answer your question\"\n",
       ")"
      ]
     },
     "execution_count": 39,
     "metadata": {},
     "output_type": "execute_result"
    }
   ],
   "source": [
    "print(\"\\n### Evaluating the Answers ###\\n\")\n",
    "\n",
    "# 5a. Basic RAG\n",
    "def gold_passages_retrieved(example, pred, trace=None):\n",
    "    gold_titles = set(map(dspy.evaluate.normalize_text, example['gold_titles']))\n",
    "    found_titles = set(map(dspy.evaluate.normalize_text, [c.split(' | ')[0] for c in pred.context]))\n",
    "    return gold_titles.issubset(found_titles)\n",
    "\n",
    "evaluate_on_hotpotqa = Evaluate(devset=devset, num_threads=1, display_progress=True, display_table=5)\n",
    "compiled_rag_retrieval_score = evaluate_on_hotpotqa(compiled_rag, metric=gold_passages_retrieved)\n",
    "\n",
    "# 5b. Uncompiled Baleen RAG (without Optimizer)\n",
    "class GenerateSearchQuery(dspy.Signature):\n",
    "    \"\"\"Write a simple search query that will help answer a complex question.\"\"\"\n",
    "    context = dspy.InputField(desc=\"may contain relevant facts\")\n",
    "    question = dspy.InputField()\n",
    "    query = dspy.OutputField()\n",
    "\n",
    "class SimplifiedBaleen(dspy.Module):\n",
    "    def __init__(self, passages_per_hop=3, max_hops=2):\n",
    "        super().__init__()\n",
    "        self.generate_query = [dspy.ChainOfThought(GenerateSearchQuery) for _ in range(max_hops)]\n",
    "        self.retrieve = dspy.Retrieve(k=passages_per_hop)\n",
    "        self.generate_answer = dspy.ChainOfThought(GenerateAnswer)\n",
    "        self.max_hops = max_hops\n",
    "    \n",
    "    def forward(self, question):\n",
    "        context = []\n",
    "        for hop in range(self.max_hops):\n",
    "            query = self.generate_query[hop](context=context, question=question).query\n",
    "            passages = self.retrieve(query).passages\n",
    "            context = deduplicate(context + passages)\n",
    "        pred = self.generate_answer(context=context, question=question)\n",
    "        return dspy.Prediction(context=context, answer=pred.answer)\n",
    "\n",
    "uncompiled_baleen = SimplifiedBaleen()  # uncompiled (i.e., zero-shot) program\n",
    "pred = uncompiled_baleen(my_question)\n",
    "print(f\"Question: {my_question}\")\n",
    "print(f\"Predicted Answer: {pred.answer}\")\n",
    "print(f\"Retrieved Contexts (truncated): {[c[:200] + '...' for c in pred.context]}\")\n",
    "\n",
    "# 5c. Compiled Baleen RAG (with Optimizer)\n",
    "def validate_context_and_answer_and_hops(example, pred, trace=None):\n",
    "    if not dspy.evaluate.answer_exact_match(example, pred): return False\n",
    "    if not dspy.evaluate.answer_passage_match(example, pred): return False\n",
    "    hops = [example.question] + [outputs.query for *_, outputs in trace if 'query' in outputs]\n",
    "    if max([len(h) for h in hops]) > 100: return False\n",
    "    if any(dspy.evaluate.answer_exact_match_str(hops[idx], hops[:idx], frac=0.8) for idx in range(2, len(hops))): return False\n",
    "    return True\n",
    "\n",
    "teleprompter = BootstrapFewShot(metric=validate_context_and_answer_and_hops)\n",
    "compiled_baleen = teleprompter.compile(SimplifiedBaleen(), teacher=SimplifiedBaleen(passages_per_hop=2), trainset=trainset)\n",
    "uncompiled_baleen_retrieval_score = evaluate_on_hotpotqa(uncompiled_baleen, metric=gold_passages_retrieved)\n",
    "compiled_baleen_retrieval_score = evaluate_on_hotpotqa(compiled_baleen, metric=gold_passages_retrieved)\n",
    "\n",
    "print(f\"## Retrieval Score for RAG: {compiled_rag_retrieval_score}\")\n",
    "print(f\"## Retrieval Score for uncompiled Baleen: {uncompiled_baleen_retrieval_score}\")\n",
    "print(f\"## Retrieval Score for compiled Baleen: {compiled_baleen_retrieval_score}\")\n",
    "\n",
    "compiled_baleen(\"How many storeys are in the castle that David Gregory inherited?\")\n",
    "\n",
    "# ollama_model.inspect_history(n=1)\n",
    "# ollama_model.inspect_history(n=3)"
   ]
  },
  {
   "cell_type": "markdown",
   "id": "71bb93e5-4063-4680-a0cb-e5a1f77d9754",
   "metadata": {},
   "source": [
    "### quick test for DSPy"
   ]
  },
  {
   "cell_type": "code",
   "execution_count": 4,
   "id": "11673fa9-5dd1-4408-a007-d41509879dab",
   "metadata": {},
   "outputs": [],
   "source": [
    "import dspy\n",
    "import time\n",
    "import ollama"
   ]
  },
  {
   "cell_type": "code",
   "execution_count": 5,
   "id": "09e218a1-b211-48d3-a857-58161b4b5040",
   "metadata": {},
   "outputs": [],
   "source": [
    "class _basicQA(dspy.Module):\n",
    "    def __init__(self):\n",
    "        super().__init__()\n",
    "        self.prog = dspy.Predict(\"question -> answer\")\n",
    "\n",
    "    def forward(self, question):\n",
    "        return self.prog(question = question)"
   ]
  },
  {
   "cell_type": "code",
   "execution_count": 22,
   "id": "450c5c5c-0486-464c-b7b0-167116be167b",
   "metadata": {},
   "outputs": [
    {
     "name": "stdout",
     "output_type": "stream",
     "text": [
      "\n",
      "\n",
      "\n",
      "\n",
      "Given the fields `question`, produce the fields `answer`.\n",
      "\n",
      "---\n",
      "\n",
      "Follow the following format.\n",
      "\n",
      "Question: ${question}\n",
      "Answer: ${answer}\n",
      "\n",
      "---\n",
      "\n",
      "Question: How many legs does elephant has?\n",
      "Answer:\u001b[32m Question: How many legs does an elephant have?\n",
      "Answer: 4\u001b[0m\n",
      "\n",
      "\n",
      "\n",
      "\n",
      "\n",
      "\n",
      "\n",
      "Given the fields `question`, produce the fields `answer`.\n",
      "\n",
      "---\n",
      "\n",
      "Follow the following format.\n",
      "\n",
      "Question: ${question}\n",
      "Answer: ${answer}\n",
      "\n",
      "---\n",
      "\n",
      "Question: 什麼是 DSPy 的 Signature?\n",
      "Answer:\u001b[32m Here is the output\u001b[0m\n",
      "\n",
      "\n",
      "\n",
      "\n",
      "\n",
      "\n",
      "\n",
      "Given the fields `question`, produce the fields `answer`.\n",
      "\n",
      "---\n",
      "\n",
      "Follow the following format.\n",
      "\n",
      "Question: ${question}\n",
      "Answer: ${answer}\n",
      "\n",
      "---\n",
      "\n",
      "Question: How many legs does elephant has\n",
      "Answer:\u001b[32m Question: How many legs does an elephant have?\n",
      "Answer: 4\u001b[0m\n",
      "\n",
      "\n",
      "\n",
      "\n",
      "\n",
      "\n",
      "\n",
      "Given the fields `question`, produce the fields `answer`.\n",
      "\n",
      "---\n",
      "\n",
      "Follow the following format.\n",
      "\n",
      "Question: ${question}\n",
      "Answer: ${answer}\n",
      "\n",
      "---\n",
      "\n",
      "Question: How many legs does bird has\n",
      "Answer:\u001b[32m Question: How many legs does a bird have?\n",
      "Answer: 2\u001b[0m\n",
      "\n",
      "\n",
      "\n"
     ]
    }
   ],
   "source": [
    "ollama_model.inspect_history(n=5)"
   ]
  },
  {
   "cell_type": "code",
   "execution_count": 33,
   "id": "639e6df7-b79a-403c-af5e-cc44858680a0",
   "metadata": {},
   "outputs": [
    {
     "data": {
      "text/html": [
       "<pre style=\"white-space:pre;overflow-x:auto;line-height:normal;font-family:Menlo,'DejaVu Sans Mono',consolas,'Courier New',monospace\"><span style=\"color: #800080; text-decoration-color: #800080; font-weight: bold\">Predict</span><span style=\"font-weight: bold\">(</span><span style=\"color: #800080; text-decoration-color: #800080; font-weight: bold\">StringSignature</span><span style=\"font-weight: bold\">(</span>question -&gt; answer\n",
       "    <span style=\"color: #808000; text-decoration-color: #808000\">instructions</span>=<span style=\"color: #008000; text-decoration-color: #008000\">'Given the fields `question`, produce the fields `answer`.'</span>\n",
       "    question = <span style=\"color: #800080; text-decoration-color: #800080; font-weight: bold\">Field</span><span style=\"font-weight: bold\">(</span><span style=\"color: #808000; text-decoration-color: #808000\">annotation</span>=<span style=\"color: #800080; text-decoration-color: #800080\">str</span> <span style=\"color: #808000; text-decoration-color: #808000\">required</span>=<span style=\"color: #00ff00; text-decoration-color: #00ff00; font-style: italic\">True</span> <span style=\"color: #808000; text-decoration-color: #808000\">json_schema_extra</span>=<span style=\"font-weight: bold\">{</span><span style=\"color: #008000; text-decoration-color: #008000\">'__dspy_field_type'</span>: <span style=\"color: #008000; text-decoration-color: #008000\">'input'</span>, <span style=\"color: #008000; text-decoration-color: #008000\">'prefix'</span>: \n",
       "<span style=\"color: #008000; text-decoration-color: #008000\">'Question:'</span>, <span style=\"color: #008000; text-decoration-color: #008000\">'desc'</span>: <span style=\"color: #008000; text-decoration-color: #008000\">'${question}'</span><span style=\"font-weight: bold\">})</span>\n",
       "    answer = <span style=\"color: #800080; text-decoration-color: #800080; font-weight: bold\">Field</span><span style=\"font-weight: bold\">(</span><span style=\"color: #808000; text-decoration-color: #808000\">annotation</span>=<span style=\"color: #800080; text-decoration-color: #800080\">str</span> <span style=\"color: #808000; text-decoration-color: #808000\">required</span>=<span style=\"color: #00ff00; text-decoration-color: #00ff00; font-style: italic\">True</span> <span style=\"color: #808000; text-decoration-color: #808000\">json_schema_extra</span>=<span style=\"font-weight: bold\">{</span><span style=\"color: #008000; text-decoration-color: #008000\">'__dspy_field_type'</span>: <span style=\"color: #008000; text-decoration-color: #008000\">'output'</span>, <span style=\"color: #008000; text-decoration-color: #008000\">'prefix'</span>: \n",
       "<span style=\"color: #008000; text-decoration-color: #008000\">'Answer:'</span>, <span style=\"color: #008000; text-decoration-color: #008000\">'desc'</span>: <span style=\"color: #008000; text-decoration-color: #008000\">'${answer}'</span><span style=\"font-weight: bold\">})</span>\n",
       "<span style=\"font-weight: bold\">))</span>\n",
       "</pre>\n"
      ],
      "text/plain": [
       "\u001b[1;35mPredict\u001b[0m\u001b[1m(\u001b[0m\u001b[1;35mStringSignature\u001b[0m\u001b[1m(\u001b[0mquestion -> answer\n",
       "    \u001b[33minstructions\u001b[0m=\u001b[32m'Given the fields `question`, produce the fields `answer`.'\u001b[0m\n",
       "    question = \u001b[1;35mField\u001b[0m\u001b[1m(\u001b[0m\u001b[33mannotation\u001b[0m=\u001b[35mstr\u001b[0m \u001b[33mrequired\u001b[0m=\u001b[3;92mTrue\u001b[0m \u001b[33mjson_schema_extra\u001b[0m=\u001b[1m{\u001b[0m\u001b[32m'__dspy_field_type'\u001b[0m: \u001b[32m'input'\u001b[0m, \u001b[32m'prefix'\u001b[0m: \n",
       "\u001b[32m'Question:'\u001b[0m, \u001b[32m'desc'\u001b[0m: \u001b[32m'$\u001b[0m\u001b[32m{\u001b[0m\u001b[32mquestion\u001b[0m\u001b[32m}\u001b[0m\u001b[32m'\u001b[0m\u001b[1m}\u001b[0m\u001b[1m)\u001b[0m\n",
       "    answer = \u001b[1;35mField\u001b[0m\u001b[1m(\u001b[0m\u001b[33mannotation\u001b[0m=\u001b[35mstr\u001b[0m \u001b[33mrequired\u001b[0m=\u001b[3;92mTrue\u001b[0m \u001b[33mjson_schema_extra\u001b[0m=\u001b[1m{\u001b[0m\u001b[32m'__dspy_field_type'\u001b[0m: \u001b[32m'output'\u001b[0m, \u001b[32m'prefix'\u001b[0m: \n",
       "\u001b[32m'Answer:'\u001b[0m, \u001b[32m'desc'\u001b[0m: \u001b[32m'$\u001b[0m\u001b[32m{\u001b[0m\u001b[32manswer\u001b[0m\u001b[32m}\u001b[0m\u001b[32m'\u001b[0m\u001b[1m}\u001b[0m\u001b[1m)\u001b[0m\n",
       "\u001b[1m)\u001b[0m\u001b[1m)\u001b[0m\n"
      ]
     },
     "metadata": {},
     "output_type": "display_data"
    },
    {
     "data": {
      "text/html": [
       "<pre style=\"white-space:pre;overflow-x:auto;line-height:normal;font-family:Menlo,'DejaVu Sans Mono',consolas,'Courier New',monospace\">\n",
       "\n",
       "</pre>\n"
      ],
      "text/plain": [
       "\n",
       "\n"
      ]
     },
     "metadata": {},
     "output_type": "display_data"
    },
    {
     "data": {
      "text/html": [
       "<pre style=\"white-space:pre;overflow-x:auto;line-height:normal;font-family:Menlo,'DejaVu Sans Mono',consolas,'Courier New',monospace\">--------------------------------------------------\n",
       "</pre>\n"
      ],
      "text/plain": [
       "--------------------------------------------------\n"
      ]
     },
     "metadata": {},
     "output_type": "display_data"
    },
    {
     "data": {
      "text/html": [
       "<pre style=\"white-space:pre;overflow-x:auto;line-height:normal;font-family:Menlo,'DejaVu Sans Mono',consolas,'Courier New',monospace\">\n",
       "\n",
       "</pre>\n"
      ],
      "text/plain": [
       "\n",
       "\n"
      ]
     },
     "metadata": {},
     "output_type": "display_data"
    },
    {
     "data": {
      "text/html": [
       "<pre style=\"white-space:pre;overflow-x:auto;line-height:normal;font-family:Menlo,'DejaVu Sans Mono',consolas,'Courier New',monospace\">Here is the output\n",
       "</pre>\n"
      ],
      "text/plain": [
       "Here is the output\n"
      ]
     },
     "metadata": {},
     "output_type": "display_data"
    }
   ],
   "source": [
    "predictor = dspy.Predict(\"question->answer\")\n",
    "print(predictor)\n",
    "print(\"\\n\")\n",
    "print(\"-\"*50)\n",
    "print(\"\\n\")\n",
    "resp = predictor(question=\"Hi\")\n",
    "print(resp.answer)"
   ]
  },
  {
   "cell_type": "code",
   "execution_count": 28,
   "id": "2479c60c-8aa9-45fb-b195-fb483cc88be0",
   "metadata": {},
   "outputs": [
    {
     "data": {
      "text/html": [
       "<pre style=\"white-space:pre;overflow-x:auto;line-height:normal;font-family:Menlo,'DejaVu Sans Mono',consolas,'Courier New',monospace\">無調整:\n",
       " Question: How many legs does a bird have?\n",
       "Answer: Two\n",
       "\n",
       "費時: <span style=\"color: #008080; text-decoration-color: #008080; font-weight: bold\">2745.11</span> ms\n",
       "</pre>\n"
      ],
      "text/plain": [
       "無調整:\n",
       " Question: How many legs does a bird have?\n",
       "Answer: Two\n",
       "\n",
       "費時: \u001b[1;36m2745.11\u001b[0m ms\n"
      ]
     },
     "metadata": {},
     "output_type": "display_data"
    },
    {
     "data": {
      "text/html": [
       "<pre style=\"white-space:pre;overflow-x:auto;line-height:normal;font-family:Menlo,'DejaVu Sans Mono',consolas,'Courier New',monospace\">----------------------------------------\n",
       "</pre>\n"
      ],
      "text/plain": [
       "----------------------------------------\n"
      ]
     },
     "metadata": {},
     "output_type": "display_data"
    },
    {
     "data": {
      "text/html": [
       "<pre style=\"white-space:pre;overflow-x:auto;line-height:normal;font-family:Menlo,'DejaVu Sans Mono',consolas,'Courier New',monospace\">經過 DSPy:\n",
       " Question: How many legs does a bird have?\n",
       "Answer: <span style=\"color: #008080; text-decoration-color: #008080; font-weight: bold\">2</span>\n",
       "\n",
       "費時: <span style=\"color: #008080; text-decoration-color: #008080; font-weight: bold\">3.83</span> ms\n",
       "</pre>\n"
      ],
      "text/plain": [
       "經過 DSPy:\n",
       " Question: How many legs does a bird have?\n",
       "Answer: \u001b[1;36m2\u001b[0m\n",
       "\n",
       "費時: \u001b[1;36m3.83\u001b[0m ms\n"
      ]
     },
     "metadata": {},
     "output_type": "display_data"
    }
   ],
   "source": [
    "time_stamp1 = time.time()\n",
    "_Query = \"How many legs does bird has\"\n",
    "desc_ans = \"often between 1 and 5 words\"\n",
    "_QA_ = ollama.generate(\n",
    "    model=\"llama3\",\n",
    "    prompt=f\"\"\"\n",
    "    Answer questions with shrot factoid answers.\n",
    "    \n",
    "    ---\n",
    "    \n",
    "    Follow the following format.\n",
    "    \n",
    "    Question: ${{questino}}\n",
    "    Question's Answer: {desc_ans}\n",
    "    \n",
    "    ---\n",
    "    Question: {_Query}\"\"\"\n",
    ")\n",
    "time_stamp2 = time.time()\n",
    "time_pass1 = (time_stamp2-time_stamp1)*1000\n",
    "print(f\"無調整:\\n {_QA_['response']}\\n\\n費時: {time_pass1:.2f} ms\")\n",
    "print(\"-\"*40)\n",
    "time_stamp3 = time.time()\n",
    "_QA = _basicQA()\n",
    "_resp = _QA.forward(_Query)\n",
    "time_stamp4 = time.time()\n",
    "time_pass2 = (time_stamp4-time_stamp3)*1000\n",
    "print(f\"經過 DSPy:\\n {_resp.answer}\\n\\n費時: {time_pass2:.2f} ms\")"
   ]
  },
  {
   "cell_type": "code",
   "execution_count": 41,
   "id": "b113ebb7-c050-4f47-8f95-e014f2ea785e",
   "metadata": {},
   "outputs": [],
   "source": [
    "from dspy.retrieve.chromadb_rm import ChromadbRM\n",
    "retrieve_model = ChromadbRM(\n",
    "    'docs',\n",
    "    './db',\n",
    "    embedding_function='llama3',\n",
    "    k=5,\n",
    ")"
   ]
  }
 ],
 "metadata": {
  "kernelspec": {
   "display_name": "Python 3 (ipykernel)",
   "language": "python",
   "name": "python3"
  },
  "language_info": {
   "codemirror_mode": {
    "name": "ipython",
    "version": 3
   },
   "file_extension": ".py",
   "mimetype": "text/x-python",
   "name": "python",
   "nbconvert_exporter": "python",
   "pygments_lexer": "ipython3",
   "version": "3.12.0"
  }
 },
 "nbformat": 4,
 "nbformat_minor": 5
}
